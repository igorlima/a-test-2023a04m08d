{
 "cells": [
  {
   "cell_type": "markdown",
   "id": "e1c61de2-1790-418d-9494-7d13ea1e787c",
   "metadata": {},
   "source": [
    "# Golang Workspace"
   ]
  },
  {
   "cell_type": "markdown",
   "id": "a12401a3-0ee7-49ea-8f33-402ae0be0aa9",
   "metadata": {},
   "source": [
    "## Intro"
   ]
  },
  {
   "cell_type": "code",
   "execution_count": 1,
   "id": "8cf33965-8ee7-4f67-b440-e360f2d418c4",
   "metadata": {
    "jupyter": {
     "source_hidden": true
    }
   },
   "outputs": [
    {
     "name": "stdout",
     "output_type": "stream",
     "text": [
      "/root/go\n",
      "/root/go/bin:/usr/local/bin:/usr/local/sbin:/usr/sbin:/usr/bin:/sbin:/bin\n",
      "go version go1.19.8 linux/amd64\n"
     ]
    }
   ],
   "source": [
    "// %env GOPATH=/root/go\n",
    "// %env PATH=/root/go:/usr/local/bin:/usr/local/sbin:/usr/local/bin:/usr/sbin:/usr/bin:/sbin:/bin\n",
    "!echo $GOPATH\n",
    "!echo $PATH\n",
    "!go version"
   ]
  },
  {
   "cell_type": "markdown",
   "id": "95c872ca-859c-4f02-afd8-3ae252bcdcf4",
   "metadata": {},
   "source": [
    "## Golang Kernel"
   ]
  },
  {
   "cell_type": "code",
   "execution_count": 2,
   "id": "b47a67b2-8482-4ae6-bdb2-b523631aca28",
   "metadata": {
    "jupyter": {
     "source_hidden": true
    }
   },
   "outputs": [
    {
     "data": {
      "text/markdown": [
       "## GoNB Help Page\n",
       "\n",
       "**GoNB** is a Go kernel that compiles and executes on-the-fly Go code.\n",
       "\n",
       "When executing a cell, **GoNB** will save the cell contents (except non-Go commands see\n",
       "below) into a `main.go` file, compile and execute it.\n",
       "\n",
       "It also saves any global declarations (imports, functions, types, variables, constants)\n",
       "and reuse them at the next cell execution -- so you can define a function in one\n",
       "cell, and reuse in the next one. Just the `func main()` is not reused.\n",
       "\n",
       "A `hello world` example would look like:\n",
       "\n",
       "```go\n",
       "func main() {\n",
       "    fmt.Printf(`Hello world!\\n`);\n",
       "}\n",
       "\n",
       "```\n",
       "\n",
       "But to avoid having to type `func main()` all the time, you can use `%%` and everything\n",
       "after is wrapped inside a `func main() { ... }`. \n",
       "So our revised `hello world` looks like:\n",
       "\n",
       "```go\n",
       "%%\n",
       "fmt.Printf(`Hello world!\\n`)\n",
       "\n",
       "```\n",
       "\n",
       "\n",
       "### Init Functions -- `func init()`\n",
       "\n",
       "Since there is always only one definition per function name, it's not possible for\n",
       "each cell to have its own init() function. \n",
       "Instead, **GoNB** converts any function named `init_something()` to `init()` before \n",
       "compiling and executing. \n",
       "This way each cell can create its own `init_...()` and have it called at every cell execution.\n",
       "\n",
       "\n",
       "### Special non-Go Commands\n",
       "\n",
       "- `%%` or `%main`: Marks the lines as follows to be wrapped in a `func main() {...}` during\n",
       "  execution. A shortcut to quickly execute code. It also automatically includes `flag.Parse()`\n",
       "  as the very first statement. Anything `%%` or `%main` are taken as arguments\n",
       "  to be passed to the program -- it resets previous values given by `%args`.\n",
       "- `%args`: Sets arguments to be passed when executing the Go code. This allows one to\n",
       "  use flags as a normal program. Notice that if a value after `%%` or `%main` is given, it will\n",
       "  overwrite the values here.\n",
       "- `%autoget` and `%noautoget`: Default is `%autoget`, which automatically does `go get` for\n",
       "  packages not yet available.\n",
       "- `%cd [<directory>]`: Change current directory of the Go kernel, and the directory from where\n",
       "  the cells are executed. If no directory is given it reports the current directory.\n",
       "- `%env VAR value`: Sets the environment variable VAR to the given value. These variables\n",
       "  will be available both for Go code and for shell scripts.\n",
       "- `%goflags <values...>`: Configures list of extra arguments to pass to `go build` when compiling the\n",
       "  code for execution of a cell.\n",
       "  If no values are given, it simply shows the current setting.\n",
       "  To reset its value, use `%goflags \"\"\"`.\n",
       "  See example on how to use this in the [tutorial](https://github.com/janpfeifer/gonb/blob/main/examples/tutorial.ipynb). \n",
       "- `%with_inputs`: will prompt for inputs for the next shell command. Use this if\n",
       "  the next shell command (`!`) you execute reads the stdin. Jupyter will require\n",
       "  you to enter one last value after the shell script executes.\n",
       "- `%with_password`: will prompt for a password passed to the next shell command.\n",
       "  Do this is if your next shell command requires a password.\n",
       "\n",
       "Notice all these commands are executed **before** any Go code in the same cell.\n",
       "\n",
       "### Managing Memorized Definitions\n",
       "\n",
       "- `%list` (or `%ls`): Lists all memorized definitions (imports, constants, types, variables and\n",
       "  functions) that are carried from one cell to another.\n",
       "- `%remove <definitions>` (or `%rm <definitions>`): Removes (forgets) given definition(s). Use as key the\n",
       "  value(s) listed with `%ls`.\n",
       "- `%reset [go.mod]` clears all memorized definitions (imports, constants, types, functions, etc.)\n",
       "  as well as re-initializes the `go.mod` file. \n",
       "  If the optional `go.mod` parameter is given, it will re-initialize only the `go.mod` file -- \n",
       "  useful when testing different set up of versions of libraries.\n",
       "\n",
       "\n",
       "### Executing Shell Commands\n",
       "\n",
       "- `!<shell_cmd>`: executes the given command on a new shell. It makes it easy to run\n",
       "  commands on the kernels box, for instance to install requirements, or quickly\n",
       "  check contents of directories or files. Lines ending in `\\` are continued on\n",
       "  the next line -- so multi-line commands can be entered. But each command is\n",
       "  executed in its own shell, that is, variables and state is not carried over.\n",
       "- `!*<shell_cmd>`: same as `!<shell_cmd>` except it first changes directory to\n",
       "  the temporary directory used to compile the go code -- the latest execution\n",
       "  is always saved in the file `main.go`. It's also where the `go.mod` file for\n",
       "  the notebook is created and maintained. Useful for manipulating `go.mod`,\n",
       "  for instance to get a package from some specific version, something\n",
       "  like `!*go get github.com/my/package@v3`.\n",
       "\n",
       "Notice that when the cell is executed, first all shell commands are executed, and only after that, if there is\n",
       "any Go code in the cell, it is executed.\n",
       "\n",
       "### Tracking of Go Files In Development:\n",
       "\n",
       "A convenient way to develop programs or libraries in **GoNB** is to use replace\n",
       "rules in **GoNB**'s `go.mod` to your program or library being developed and test\n",
       "your program from **GoNB** -- see the \n",
       "[Tutorial]((https://github.com/janpfeifer/gonb/blob/main/examples/tutorial.ipynb))'s\n",
       "section \"Developing Go libraries with a notebook\" for different ways of achieving this.\n",
       "\n",
       "To manipulate the list of files tracked for changes:\n",
       "\n",
       "- `%track [file_or_directory]`: add file or directory to list of tracked files,\n",
       "  which are monitored by **GoNB** (and 'gopls') for auto-complete or contextual help.\n",
       "  If no file is given, it lists the currently tracked files.\n",
       "- `%untrack [file_or_directory][...]`: remove file or directory from list of tracked files.\n",
       "  If suffixed with `...` it will remove all files prefixed with the string given (without the\n",
       "  `...`). If no file is given, it lists the currently tracked files.\n",
       "\n",
       "\n",
       "### Environment Variables\n",
       "\n",
       "For convenience, **GoNB** defines the following environment variables -- available for the shell\n",
       "scripts (`!` and `!*`) and for the Go cells:\n",
       "\n",
       "- `GONB_DIR`: the directory where commands are executed from. This can be changed with `%cd`.\n",
       "- `GONB_TMP_DIR`: the directory where the temporary Go code, with the cell code, is stored\n",
       "  and compiled. This is the directory where `!*` scripts are executed. It only changes when a kernel\n",
       "  is restarted, and a new temporary directory is created.\n",
       "- `GONB_PIPE`: is the _named pipe_ directory used to communicate rich content (HTML, images)\n",
       "  to the kernel. Only available for _Go_ cells, and a new one is created at every execution.\n",
       "  This is used by the `**GoNB**ui`` functions described above, and doesn't need to be accessed directly.\n",
       "\n",
       "### Widgets\n",
       "\n",
       "The package `gonbui/widgets` offers widgets that can be used to interact in a more\n",
       "dynamic way, using the HTML element in the browser. E.g.: buttons, sliders.\n",
       "\n",
       "It's not necessary to do anything, but, to help debug the communication system\n",
       "with the front-end, **GoNB** offers a couple of special commands:\n",
       "\n",
       "- `%widgets` - install the javascript needed to communicate with the frontend.\n",
       "  This is usually not needed, since it happens automatically when using Widgets.\n",
       "- `%widgets_hb` - send a _heartbeat_ signal to the front-end and wait for the\n",
       "  reply.\n",
       "  Used for debugging only.\n",
       "\n",
       "### Writing for WASM (WebAssembly) (Experimental)\n",
       "\n",
       "**GoNB** can also compile to WASM and run in the notebook. This is experimental, and likely to change\n",
       "(feedback is very welcome), and can be used to write interactive widgets in Go, in the notebook.\n",
       "\n",
       "When a cell with `%wasm` is executed, a temporary directory is created under the Jupyter root directory\n",
       "called `jupyter_files/<kernel unique id>/` and the cell is compiled to a wasm file and put in that \n",
       "directory.\n",
       "\n",
       "Then **GONB** outputs the javascript needed to run the compiled wam.\n",
       "\n",
       "In the Go code, the following extra constants/variables are created in the global namespace, and can be used\n",
       "in your Go code:\n",
       "\n",
       "- `GonbWasmDir`, `GonbWasmUrl`: the directory and url (served by Jupyter) where the generated `.wasm` files are read.\n",
       "  Potentially, the user can use it to serve other files.\n",
       "  These are unique for the kernel, but shared among cells.\n",
       "- `GonbWasmDivId`: When a `%wasm` cell is executed, an empty `<div id=\"<unique_id>\"></div>`\n",
       "  is created with a unique id -- every cell will have a different one.\n",
       "  This is where the Wasm code can dynamically create content.\n",
       "\n",
       "The following environment variables are set when `%wasm` is created:\n",
       "\n",
       "- `GONB_WASM_SUBDIR`, `GONB_WASM_URL`: the directory and url (served by Jupyter) where the generated `.wasm` files are read.\n",
       "  Potentially, the user can use it to serve other files.\n",
       "  These environment variables are available for shell scripts (`!...` and `!*...` special commands) and non-wasm \n",
       "  programs if they want to serve different files from there.\n",
       "\n",
       "\n",
       "### Writing Tests and Benchmarks\n",
       "\n",
       "If a cell includes the `%test` command (anywhere in cell), it is compiled with `go test`\n",
       "(as opposed to `go build`).\n",
       "This can be very useful both to demonstrate tests, or simply help develop/debug them in a notebook.\n",
       "\n",
       "If `%test` is given without any flags, it uses by default the flags `-test.v` (verbose) and `-test.run` defined\n",
       "with the list of the tests defined in the current cell. \n",
       "That is, it will run only the tests in the current cell. \n",
       "Also, if there are any benchmarks in the current cell, it appends the flag `-test.bench=.` and runs the benchmarks\n",
       "defined in the current cell.\n",
       "\n",
       "Alternatively one can use `%test <flags>`, and the `flags` are passed to the binary compiled with `go test`. \n",
       "Remember that test flags require to be prefixed with `test.`. \n",
       "So for a verbose output, use `%test -test.v`. \n",
       "For benchmarks, run `%test -test.bench=. -test.run=Benchmark`. \n",
       "\n",
       "See examples in the [`gotest.ipynb` notebook here](https://github.com/janpfeifer/gonb/blob/main/examples/tests/gotest.ipynb).\n",
       "\n",
       "\n",
       "### Cell Magic\n",
       "\n",
       "The following are special commands that change how the cell is interpreted, so they are prefixed with `%%` (two '%'\n",
       "symbols). They try to follow [IPython's Cell Magic](https://ipython.readthedocs.io/en/stable/interactive/magics.html#cell-magics).\n",
       "\n",
       "They must always appear as the first line of the cell.\n",
       "\n",
       "The contents in the cells are not assumed to be Go, so auto-complete and contextual help are disabled in those cells.\n",
       "\n",
       "#### `%%writefile`\n",
       "\n",
       "```\n",
       "%%writefile [-a] <filePath>\n",
       "```\n",
       "\n",
       "Write contents of the cell (except the first line with the '%%writefile') to the given `<filePath>`. If `-a` is given\n",
       "it will append the cell contents to the file.\n",
       "\n",
       "This can be handy if for instance the notebook needs to write a configuration file, or simply to dump the code inside\n",
       "the cell into some file.\n",
       "\n",
       "File path passes through a tilde (`~`) expansion to the user's home directory, as well as environment variable substitution (e.g.: `${HOME}` or `$MY_DIR/a/b`). \n",
       "\n",
       "### `%%script`, `%%bash` and `%%sh`\n",
       "\n",
       "```\n",
       "%%script <command>\n",
       "```\n",
       "\n",
       "Execute `<command>` and feed it (`STDIN`) with the contents of the cell. The `%%bash` and `%%sh` magic is an alias to `%%script bash` and `%%script sh` respectively.\n",
       "\n",
       "Generally, a convenient way to run larger scripts.\n",
       "\n",
       "\n",
       "### Other\n",
       "\n",
       "- `%goworkfix`: work around 'go get' inability to handle 'go.work' files. If you are\n",
       "  using 'go.work' file to point to locally modified modules, consider using this. It creates\n",
       "  'go mod edit --replace' rules to point to the modules pointed to the 'use' rules in 'go.work'\n",
       "  file.\n",
       "  It overwrites/updates 'replace' rules for those modules, if they already exist. See \n",
       "  [tutorial](https://github.com/janpfeifer/gonb/blob/main/examples/tutorial.ipynb) for an example.\n",
       "\n",
       "### Links\n",
       "\n",
       "- [github.com/janpfeifer/gonb](https://github.com/janpfeifer/gonb) - GitHub page.\n",
       "- [Tutorial](https://github.com/janpfeifer/gonb/blob/main/examples/tutorial.ipynb).\n",
       "- [go.dev](https://pkg.go.dev/github.com/janpfeifer/gonb) package reference."
      ]
     },
     "metadata": {},
     "output_type": "display_data"
    }
   ],
   "source": [
    "// reference documentation\n",
    "%help"
   ]
  },
  {
   "cell_type": "code",
   "execution_count": 3,
   "id": "d1a0b992-4e3f-425b-92e5-103b14c096ed",
   "metadata": {},
   "outputs": [
    {
     "name": "stdout",
     "output_type": "stream",
     "text": [
      "Hello, Gianni!\n"
     ]
    }
   ],
   "source": [
    "import \"fmt\"\n",
    "\n",
    "%%\n",
    "fmt.Println(\"Hello, Gianni!\")"
   ]
  },
  {
   "cell_type": "markdown",
   "id": "2f04a3f0-086b-4a32-a0cc-4ce92c15dbde",
   "metadata": {
    "jp-MarkdownHeadingCollapsed": true
   },
   "source": [
    "## Useful and Versatile Go Code Snippets\n",
    "\n",
    "by Beck Moulton\n",
    "[published on Medium](https://levelup.gitconnected.com/useful-and-versatile-go-code-snippets-592cdf31b637)\n",
    "\n"
   ]
  },
  {
   "cell_type": "markdown",
   "id": "fc38f050-0c39-4eb7-a625-d8328c6b0730",
   "metadata": {
    "jp-MarkdownHeadingCollapsed": true
   },
   "source": [
    "### Timing Execution"
   ]
  },
  {
   "cell_type": "code",
   "execution_count": 4,
   "id": "136db3d3-d99a-4c36-b372-39e412ea0efa",
   "metadata": {
    "jupyter": {
     "source_hidden": true
    }
   },
   "outputs": [
    {
     "name": "stdout",
     "output_type": "stream",
     "text": [
      "elapsed: 500.758575ms\n"
     ]
    }
   ],
   "source": [
    "import \"fmt\"\n",
    "// Utility\n",
    "\n",
    "func TrackTime(pre time.Time) time.Duration {\n",
    " elapsed := time.Since(pre)\n",
    " fmt.Println(\"elapsed:\", elapsed)\n",
    " return elapsed\n",
    "}\n",
    "\n",
    "%%\n",
    "defer TrackTime(time.Now()) // <--- THIS\n",
    "time.Sleep(500 * time.Millisecond)"
   ]
  },
  {
   "cell_type": "markdown",
   "id": "47b5cede-b4c9-419b-aef6-ddb2e1fc33d8",
   "metadata": {},
   "source": [
    "### Two-Stage Deferred Execution"
   ]
  },
  {
   "cell_type": "code",
   "execution_count": 5,
   "id": "923c59a6-ff10-40c3-b3a7-244fcaf703d4",
   "metadata": {
    "jupyter": {
     "source_hidden": true
    }
   },
   "outputs": [
    {
     "name": "stdout",
     "output_type": "stream",
     "text": [
      "Run initialization\n",
      "Main function called\n",
      "Run cleanup\n"
     ]
    }
   ],
   "source": [
    "func setupTeardown() func() {\n",
    "  fmt.Println(\"Run initialization\")\n",
    "  return func() {\n",
    "    fmt.Println(\"Run cleanup\")\n",
    "  }\n",
    "}\n",
    "\n",
    "func main() {\n",
    "  defer setupTeardown()() // <--------\n",
    "  fmt.Println(\"Main function called\")\n",
    "}"
   ]
  },
  {
   "cell_type": "markdown",
   "id": "6126a13a-60a7-4152-bd34-185bd8882d1c",
   "metadata": {},
   "source": [
    "### Method Chaining"
   ]
  },
  {
   "cell_type": "code",
   "execution_count": 6,
   "id": "ed464339-4a53-4ab2-a11a-f99e7bb11d10",
   "metadata": {
    "jupyter": {
     "source_hidden": true
    }
   },
   "outputs": [
    {
     "name": "stdout",
     "output_type": "stream",
     "text": [
      "{Aiden 30}\n",
      "{AIDEN 31}\n"
     ]
    }
   ],
   "source": [
    "import \"fmt\"\n",
    "\n",
    "type Person struct {\n",
    "  Name string\n",
    "  Age  int\n",
    "}\n",
    "\n",
    "func (p *Person) AddAge() *Person {\n",
    "  p.Age++\n",
    "  return p\n",
    "}\n",
    "\n",
    "func (p *Person) Rename(name string) *Person {\n",
    "  p.Name = name\n",
    "  return p\n",
    "}\n",
    "\n",
    "%%\n",
    "p := Person{Name: \"Aiden\", Age: 30}\n",
    "fmt.Println(p)\n",
    "p = *p.AddAge().Rename(\"AIDEN\")\n",
    "fmt.Println(p)"
   ]
  },
  {
   "cell_type": "markdown",
   "id": "ca8b0fcd-f6a0-4df0-bf26-2a01dcc932b3",
   "metadata": {
    "jp-MarkdownHeadingCollapsed": true
   },
   "source": [
    "## Error Handling\n"
   ]
  },
  {
   "cell_type": "markdown",
   "id": "f06eae67-ef0e-49ea-bf5e-c42b407f7c34",
   "metadata": {},
   "source": [
    "### Try/catch implementation\n",
    "\n",
    "- [Golang : Try, Catch, Finally](https://medium.com/@saldinata.bobby/golang-try-catch-finally-1bd0b76f4f7c) _by saldinata bobby_\n",
    "  - a new perspective on error handling in Go - an implementation which enables the use of try/catch blocks. "
   ]
  },
  {
   "cell_type": "code",
   "execution_count": 1,
   "id": "08d005c2-7fbd-408b-9f9d-61203ede941e",
   "metadata": {
    "jupyter": {
     "source_hidden": true
    }
   },
   "outputs": [
    {
     "name": "stdout",
     "output_type": "stream",
     "text": [
      "application started\n",
      "this is good\n",
      "Caught Oh, no...!!\n",
      "finally keep runs\n",
      "application shutdown\n"
     ]
    }
   ],
   "source": [
    "import (\n",
    "  \"fmt\"\n",
    ")\n",
    "\n",
    "type Block struct {\n",
    "  Try func()\n",
    "  Catch func(Exception)\n",
    "  Finally func()\n",
    "}\n",
    "\n",
    "type Exception interface{}\n",
    "\n",
    "func Throw(up Exception) {\n",
    "  panic(up)\n",
    "}\n",
    "\n",
    "func (tcf Block) Do() {\n",
    "  if tcf.Finally != nil {\n",
    "    defer tcf.Finally()\n",
    "  }\n",
    "  if tcf.Catch != nil {\n",
    "    defer func() {\n",
    "      if r:= recover(); r != nil {\n",
    "        tcf.Catch(r)\n",
    "      }\n",
    "    }()\n",
    "  }\n",
    "  tcf.Try()\n",
    "}\n",
    "\n",
    "%%\n",
    "fmt.Println(\"application started\")\n",
    "Block {\n",
    "  Try: func() {\n",
    "    fmt.Println(\"this is good\")\n",
    "    Throw(\"Oh, no...!!\")\n",
    "  },\n",
    "  Catch: func(e Exception) {\n",
    "    fmt.Printf(\"Caught %v\\n\", e)\n",
    "  },\n",
    "  Finally: func() {\n",
    "    fmt.Println(\"finally keep runs\")\n",
    "  },\n",
    "}.Do()\n",
    "fmt.Println(\"application shutdown\")"
   ]
  },
  {
   "cell_type": "markdown",
   "id": "83952f7f-c19d-45f3-9996-ba115c89f58e",
   "metadata": {},
   "source": [
    "### Understanding Panic\n",
    "\n",
    "- [Understanding and Preventing Panics in Go](https://medium.com/outreach-prague/understanding-and-preventing-panics-in-go-040b29754c8c) by _Martin Havelka_\n",
    "  - when a panic occurs, the current function stops executing, and the program starts unwinding the call stack, running deferred functions along the way.\n",
    "  - to prevent panics, it's important to handle errors properly by checking return values and using defensive programming techniques."
   ]
  },
  {
   "cell_type": "code",
   "execution_count": 4,
   "id": "83eab5b0-cb6e-4c89-b786-9b5ea771ad19",
   "metadata": {
    "jupyter": {
     "source_hidden": true
    }
   },
   "outputs": [
    {
     "name": "stdout",
     "output_type": "stream",
     "text": [
      "a sample block\n",
      "\n",
      "Nil Pointer Dereference\n",
      "Caught: runtime error: invalid memory address or nil pointer dereference\n",
      "Pointer is nil\n",
      "\n",
      "Index Out of Range\n",
      "Caught: runtime error: index out of range [4] with length 3\n",
      "Index out of range\n",
      "\n",
      "Failed Type Assertions\n",
      "Caught: interface conversion: interface {} is string, not int\n",
      "Type assertion failed\n",
      "\n",
      "Closing Closed Channels\n",
      "Caught: close of closed channel\n",
      "\n",
      "Division by Zero\n",
      "Caught: runtime error: integer divide by zero\n",
      "\n",
      "Invalid Memory Address or Nil Pointer Dereference\n",
      "Caught: runtime error: invalid memory address or nil pointer dereference\n"
     ]
    }
   ],
   "source": [
    "func catchFn(e Exception) {\n",
    "  fmt.Printf(\"Caught: %v\\n\", e)\n",
    "}\n",
    "\n",
    "func try(fn func()) {\n",
    "  Block {\n",
    "    fn, catchFn, nil,\n",
    "  }.Do()\n",
    "}\n",
    "\n",
    "%%\n",
    "Block {\n",
    "  func() {\n",
    "    fmt.Println(\"a sample block\")\n",
    "  }, catchFn, nil,\n",
    "}.Do()\n",
    "\n",
    "fmt.Println(\"\\nNil Pointer Dereference\")\n",
    "Block {\n",
    "  func() {\n",
    "    var pointer *int\n",
    "    fmt.Println(*pointer)\n",
    "  }, catchFn, nil,\n",
    "}.Do()\n",
    "\n",
    "try(func() {\n",
    "  var pointer *int\n",
    "  if pointer != nil {\n",
    "    fmt.Println(*pointer)\n",
    "  } else {\n",
    "    fmt.Println(\"Pointer is nil\")\n",
    "  }\n",
    "})\n",
    "\n",
    "fmt.Println(\"\\nIndex Out of Range\")\n",
    "try(func() {\n",
    "  arr := []int{1,2,3}\n",
    "  fmt.Println(arr[4])\n",
    "})\n",
    "try(func() {\n",
    "  arr := []int{1, 2, 3}\n",
    "  index := 4\n",
    "  if index >= 0 && index < len(arr) {\n",
    "    fmt.Println(arr[index])\n",
    "  } else {\n",
    "    fmt.Println(\"Index out of range\")\n",
    "  }\n",
    "})\n",
    "\n",
    "fmt.Println(\"\\nFailed Type Assertions\")\n",
    "try(func () {\n",
    "  var i interface{} = \"hello\"\n",
    "  num := i.(int)\n",
    "  fmt.Println(num)\n",
    "})\n",
    "try(func () {\n",
    "  var i interface{} = \"hello\"\n",
    "  if num, ok := i.(int); ok {\n",
    "    fmt.Println(num)\n",
    "  } else {\n",
    "    fmt.Println(\"Type assertion failed\")\n",
    "  }\n",
    "})\n",
    "\n",
    "fmt.Println(\"\\nClosing Closed Channels\")\n",
    "try(func () {\n",
    "  ch := make(chan int)\n",
    "  close(ch)\n",
    "  close(ch)\n",
    "})\n",
    "\n",
    "fmt.Println(\"\\nDivision by Zero\")\n",
    "try(func () {\n",
    "  x := 0\n",
    "  y := 1 / x\n",
    "  fmt.Println(y)\n",
    "})\n",
    "\n",
    "fmt.Println(\"\\nInvalid Memory Address or Nil Pointer Dereference\")\n",
    "try(func () {\n",
    "  var x *struct{Value int}\n",
    "  fmt.Println(x.Value)\n",
    "})"
   ]
  },
  {
   "cell_type": "markdown",
   "id": "e2b27a92-0b34-4ae1-8d99-afe736549a67",
   "metadata": {},
   "source": [
    "## JSON"
   ]
  },
  {
   "cell_type": "markdown",
   "id": "a4402752-92f1-45c4-bb96-cc428a94071d",
   "metadata": {},
   "source": [
    "### mapstructure module"
   ]
  },
  {
   "cell_type": "code",
   "execution_count": 20,
   "id": "214176cd-2293-49eb-bd53-73e04ec94611",
   "metadata": {
    "jupyter": {
     "source_hidden": true
    }
   },
   "outputs": [
    {
     "name": "stderr",
     "output_type": "stream",
     "text": [
      "go: /home/local/go.mod already exists\n",
      "exit status 1\n"
     ]
    }
   ],
   "source": [
    "!go mod init ilima.xyz/20240511-2115\n",
    "// https://github.com/mitchellh/mapstructure\n",
    "!go get github.com/mitchellh/mapstructure@v1.5.0"
   ]
  },
  {
   "cell_type": "markdown",
   "id": "07289b8e-b1ad-457d-a8ec-b34be7bdad07",
   "metadata": {
    "jp-MarkdownHeadingCollapsed": true
   },
   "source": [
    "#### Conventional Usage"
   ]
  },
  {
   "cell_type": "code",
   "execution_count": 21,
   "id": "b8bb5f58-ad4c-43f1-9b6e-dea404e26ef0",
   "metadata": {
    "jupyter": {
     "source_hidden": true
    }
   },
   "outputs": [
    {
     "name": "stdout",
     "output_type": "stream",
     "text": [
      "main.Person{Name:\"Foo\", Age:21, Emails:[]string{\"one@gmail.com\", \"two@gmail.com\", \"three@gmail.com\"}, Extra:map[string]string{\"twitter\":\"Foo\"}}\n",
      "main.Person{Name:\"Foo\", Age:21, Gender:\"male\"}\n"
     ]
    }
   ],
   "source": [
    "import \"github.com/mitchellh/mapstructure\"\n",
    "\n",
    "func normalDecode() {\n",
    "  type Person struct {\n",
    "    Name   string\n",
    "    Age    int\n",
    "    Emails []string\n",
    "    Extra  map[string]string\n",
    "  }\n",
    "  input := map[string]interface{}{\n",
    "    \"name\":   \"Foo\",\n",
    "    \"age\":    21,\n",
    "    \"emails\": []string{\"one@gmail.com\", \"two@gmail.com\", \"three@gmail.com\"},\n",
    "    \"extra\": map[string]string{\n",
    "      \"twitter\": \"Foo\",\n",
    "    },\n",
    "  }\n",
    "  var result Person\n",
    "  err := mapstructure.Decode(input, &result)\n",
    "  if err != nil {\n",
    "    panic(err)\n",
    "  }\n",
    "  fmt.Printf(\"%#v\\n\", result)\n",
    "}\n",
    "\n",
    "func jsonDecode() {\n",
    "  var jsonStr = `{\n",
    "    \"name\": \"Foo\",\n",
    "    \"age\": 21,\n",
    "    \"gender\": \"male\"\n",
    "  }`\n",
    "  type Person struct {\n",
    "    Name   string\n",
    "    Age    int\n",
    "    Gender string\n",
    "  }\n",
    "  m := make(map[string]interface{})\n",
    "  err := json.Unmarshal([]byte(jsonStr), &m)\n",
    "  if err != nil {\n",
    "    panic(err)\n",
    "  }\n",
    "  var result Person\n",
    "  err = mapstructure.Decode(m, &result)\n",
    "  if err != nil {\n",
    "    panic(err.Error())\n",
    "  }\n",
    "  fmt.Printf(\"%#v\\n\", result)\n",
    "}\n",
    "\n",
    "%%\n",
    "normalDecode()\n",
    "jsonDecode()"
   ]
  },
  {
   "cell_type": "markdown",
   "id": "374add66-3eb0-4af3-a81b-913ba7a09f7d",
   "metadata": {
    "jp-MarkdownHeadingCollapsed": true
   },
   "source": [
    "#### Embedded Structures"
   ]
  },
  {
   "cell_type": "code",
   "execution_count": 24,
   "id": "4f4127ba-72b6-4f58-9cac-6f2c8d44c67e",
   "metadata": {
    "jupyter": {
     "source_hidden": true
    }
   },
   "outputs": [
    {
     "name": "stdout",
     "output_type": "stream",
     "text": [
      "A1, B1, C1\n"
     ]
    }
   ],
   "source": [
    "type School struct {\n",
    "  Name string\n",
    "}\n",
    "type Address struct {\n",
    "  City string\n",
    "}\n",
    "type Person struct {\n",
    "  School    `mapstructure:\",squash\"`\n",
    "  Address  `mapstructure:\",squash\"`\n",
    "  Email      string\n",
    "}\n",
    "func embeddedStructDecode() {\n",
    "  input := map[string]interface{}{\n",
    "    \"Name\": \"A1\",\n",
    "    \"City\":  \"B1\",\n",
    "    \"Email\": \"C1\",\n",
    "  }\n",
    "  var result Person\n",
    "  err := mapstructure.Decode(input, &result)\n",
    "  if err != nil {\n",
    "    panic(err)\n",
    "  }\n",
    "  fmt.Printf(\"%s, %s, %s\\n\", result.Name, result.City, result.Email)\n",
    "}\n",
    "\n",
    "%%\n",
    "embeddedStructDecode()"
   ]
  },
  {
   "cell_type": "markdown",
   "id": "35bbbd8c-44cb-4b3b-86de-9fae05e8d623",
   "metadata": {},
   "source": [
    "#### Metadata"
   ]
  },
  {
   "cell_type": "code",
   "execution_count": 27,
   "id": "f0df8238-fb00-4746-989e-10840fe3eb29",
   "metadata": {
    "jupyter": {
     "source_hidden": true
    }
   },
   "outputs": [
    {
     "name": "stdout",
     "output_type": "stream",
     "text": [
      "value: main.Person{Name:\"A1\", Age:1, Gender:\"\"}, keys: []string{\"Name\", \"Age\"}, Unused keys: []string{\"email\"}, Unset keys: []string{\"Gender\"}\n"
     ]
    }
   ],
   "source": [
    "func metadataDecode() {\n",
    "  type Person struct {\n",
    "    Name   string\n",
    "    Age    int\n",
    "    Gender string\n",
    "  }\n",
    "  input := map[string]interface{}{\n",
    "    \"name\":  \"A1\",\n",
    "    \"age\":   1,\n",
    "    \"email\": \"B1\",\n",
    "  }\n",
    "  var md mapstructure.Metadata\n",
    "  var result Person\n",
    "  config := &mapstructure.DecoderConfig{\n",
    "    Metadata: &md,\n",
    "    Result:   &result,\n",
    "  }\n",
    "  decoder, err := mapstructure.NewDecoder(config)\n",
    "  if err != nil {\n",
    "    panic(err)\n",
    "  }\n",
    "  if err = decoder.Decode(input); err != nil {\n",
    "    panic(err)\n",
    "  }\n",
    "  fmt.Printf(\"value: %#v, keys: %#v, Unused keys: %#v, Unset keys: %#v\\n\", result, md.Keys, md.Unused, md.Unset)\n",
    "}\n",
    "\n",
    "%%\n",
    "metadataDecode()"
   ]
  },
  {
   "cell_type": "markdown",
   "id": "1c711494-b81f-4b22-ade0-98520480f030",
   "metadata": {},
   "source": [
    "#### Avoiding Mapping of Null Values"
   ]
  },
  {
   "cell_type": "code",
   "execution_count": 29,
   "id": "678c6931-b390-4f55-b578-ed59112b476b",
   "metadata": {
    "jupyter": {
     "source_hidden": true
    }
   },
   "outputs": [
    {
     "name": "stdout",
     "output_type": "stream",
     "text": [
      "&map[Age:0 Email:C1]\n",
      "main.Person{Name:\"A1\", Age:1, Other:map[string]interface {}{\"email\":\"B1\", \"gender\":\"C1\"}}\n"
     ]
    }
   ],
   "source": [
    "func omitemptyDecode() {\n",
    "  type School struct {\n",
    "    Name string\n",
    "  }\n",
    "  type Address struct {\n",
    "    City string\n",
    "  }\n",
    "  type Person struct {\n",
    "    *School   `mapstructure:\",omitempty\"`\n",
    "    *Address `mapstructure:\",omitempty\"`\n",
    "    Age       int\n",
    "    Email     string\n",
    "  }\n",
    "  result := &map[string]interface{}{}\n",
    "  input := Person{Email: \"C1\"}\n",
    "  err := mapstructure.Decode(input, &result)\n",
    "  if err != nil {\n",
    "    panic(err)\n",
    "  }\n",
    "  fmt.Printf(\"%+v\\n\", result)\n",
    "}\n",
    "\n",
    "func remainDataDecode() {\n",
    "  type Person struct {\n",
    "    Name  string\n",
    "    Age   int\n",
    "    Other map[string]interface{} `mapstructure:\",remain\"`\n",
    "  }\n",
    "  input := map[string]interface{}{\n",
    "    \"name\":   \"A1\",\n",
    "    \"age\":    1,\n",
    "    \"email\":  \"B1\",\n",
    "    \"gender\": \"C1\",\n",
    "  }\n",
    "  var result Person\n",
    "  err := mapstructure.Decode(input, &result)\n",
    "  if err != nil {\n",
    "    panic(err)\n",
    "  }\n",
    "  fmt.Printf(\"%#v\\n\", result)\n",
    "}\n",
    "\n",
    "%%\n",
    "omitemptyDecode()\n",
    "remainDataDecode()"
   ]
  },
  {
   "cell_type": "markdown",
   "id": "64887b93-7025-45d5-a05e-2540d81f0595",
   "metadata": {},
   "source": [
    "#### Custom Tags"
   ]
  },
  {
   "cell_type": "code",
   "execution_count": 30,
   "id": "9ccc144c-2795-4282-b9b4-4f6ae37564cd",
   "metadata": {
    "jupyter": {
     "source_hidden": true
    }
   },
   "outputs": [
    {
     "name": "stdout",
     "output_type": "stream",
     "text": [
      "main.Person{Name:\"A1\", Age:1}\n"
     ]
    }
   ],
   "source": [
    "func tagDecode() {\n",
    "  type Person struct {\n",
    "    Name string `mapstructure:\"person_name\"`\n",
    "    Age  int    `mapstructure:\"person_age\"`\n",
    " }\n",
    "  input := map[string]interface{}{\n",
    "    \"person_name\": \"A1\",\n",
    "    \"person_age\":  1,\n",
    "  }\n",
    "  var result Person\n",
    "  err := mapstructure.Decode(input, &result)\n",
    "  if err != nil {\n",
    "    panic(err)\n",
    "  }\n",
    "  fmt.Printf(\"%#v\\n\", result)\n",
    "}\n",
    "\n",
    "%%\n",
    "tagDecode()"
   ]
  },
  {
   "cell_type": "markdown",
   "id": "57b7a7d2-e387-4e00-918e-61611446dbcd",
   "metadata": {},
   "source": [
    "#### Weakly Typed Parsing."
   ]
  },
  {
   "cell_type": "code",
   "execution_count": 32,
   "id": "ef4a2b0c-d224-4dcd-b2a3-029304b08d61",
   "metadata": {
    "jupyter": {
     "source_hidden": true
    }
   },
   "outputs": [
    {
     "name": "stdout",
     "output_type": "stream",
     "text": [
      "main.Person{Name:\"123\", Age:11, Emails:[]string{}}\n"
     ]
    }
   ],
   "source": [
    "func weaklyTypedInputDecode() {\n",
    "  type Person struct {\n",
    "    Name   string\n",
    "    Age    int\n",
    "    Emails []string\n",
    "  }\n",
    "  input := map[string]interface{}{\n",
    "    \"name\":   123,  // number => string\n",
    "    \"age\":    \"11\", // string => number\n",
    "    \"emails\": map[string]interface{}{}, // empty map => empty array\n",
    "  }\n",
    "  var result Person\n",
    "  config := &mapstructure.DecoderConfig{\n",
    "    WeaklyTypedInput: true,\n",
    "    Result:           &result,\n",
    "  }\n",
    "  decoder, err := mapstructure.NewDecoder(config)\n",
    "  if err != nil {\n",
    "    panic(err)\n",
    "  }\n",
    "  err = decoder.Decode(input)\n",
    "  if err != nil {\n",
    "    panic(err)\n",
    "  }\n",
    "  fmt.Printf(\"%#v\\n\", result)\n",
    "}\n",
    "\n",
    "%%\n",
    "weaklyTypedInputDecode()\n",
    "//   - bools to string (true = \"1\", false = \"0\")\n",
    "//   - numbers to string (base 10)\n",
    "//   - bools to int/uint (true = 1, false = 0)\n",
    "//   - strings to int/uint (base implied by prefix)\n",
    "//   - int to bool (true if value != 0)\n",
    "//   - string to bool (accepts: 1, t, T, TRUE, true, True, 0, f, F,\n",
    "//     FALSE, false, False. Anything else is an error)\n",
    "//   - empty array = empty map and vice versa\n",
    "//   - negative numbers to overflowed uint values (base 10)\n",
    "//   - slice of maps to a merged map\n",
    "//   - single values are converted to slices if required. Each\n",
    "//     element is weakly decoded. For example: \"4\" can become []int{4}\n",
    "//     if the target type is an int slice."
   ]
  },
  {
   "cell_type": "markdown",
   "id": "e8ab0cc1-45f6-4ea7-89ec-a0bb4e37c665",
   "metadata": {},
   "source": [
    "#### Error Handling"
   ]
  },
  {
   "cell_type": "code",
   "execution_count": 33,
   "id": "02b92d98-e13f-43d6-8957-14ae8740e065",
   "metadata": {
    "jupyter": {
     "source_hidden": true
    }
   },
   "outputs": [
    {
     "name": "stdout",
     "output_type": "stream",
     "text": [
      "5 error(s) decoding:\n",
      "\n",
      "* 'Age' expected type 'int', got unconvertible type 'string', value: 'bad value'\n",
      "* 'Emails[0]' expected type 'string', got unconvertible type 'int', value: '1'\n",
      "* 'Emails[1]' expected type 'string', got unconvertible type 'int', value: '2'\n",
      "* 'Emails[2]' expected type 'string', got unconvertible type 'int', value: '3'\n",
      "* 'Name' expected type 'string', got unconvertible type 'int', value: '123'\n"
     ]
    }
   ],
   "source": [
    "func decodeErrorHandle() {\n",
    "  type Person struct {\n",
    "    Name   string\n",
    "    Age    int\n",
    "    Emails []string\n",
    "    Extra  map[string]string\n",
    "  }\n",
    "  input := map[string]interface{}{\n",
    "    \"name\":   123,\n",
    "    \"age\":    \"bad value\",\n",
    "    \"emails\": []int{1, 2, 3},\n",
    "  }\n",
    "  var result Person\n",
    "  err := mapstructure.Decode(input, &result)\n",
    "  if err != nil {\n",
    "    fmt.Println(err.Error())\n",
    "  }\n",
    "}\n",
    "\n",
    "%%\n",
    "decodeErrorHandle()"
   ]
  },
  {
   "cell_type": "markdown",
   "id": "0315d915-b656-4ee4-9b7f-f1c5ed9cd490",
   "metadata": {},
   "source": [
    "### encoding/json"
   ]
  },
  {
   "cell_type": "markdown",
   "id": "4e0362df-a384-4233-9996-580a8ff1863b",
   "metadata": {},
   "source": [
    "#### dynamic JSON parsing"
   ]
  },
  {
   "cell_type": "code",
   "execution_count": 35,
   "id": "08fddb71-5ee6-458b-8c8a-635ff8e9637f",
   "metadata": {},
   "outputs": [
    {
     "name": "stdout",
     "output_type": "stream",
     "text": [
      "Name: John Doe\n",
      "Age: 30\n",
      "City: New York\n",
      "Has Car: true\n",
      "Languages:\n",
      " - Go\n",
      " - JavaScript\n"
     ]
    }
   ],
   "source": [
    "import (\n",
    "  \"encoding/json\"\n",
    "  \"fmt\"\n",
    ")\n",
    "\n",
    "%%\n",
    "// JSON data as a byte slice\n",
    "jsonData := []byte(`{\n",
    "  \"name\": \"John Doe\",\n",
    "  \"age\": 30,\n",
    "  \"city\": \"New York\",\n",
    "  \"hasCar\": true,\n",
    "  \"languages\": [\"Go\", \"JavaScript\"]\n",
    "}`)\n",
    "\n",
    "// Parse JSON into an empty interface\n",
    "var result interface{}\n",
    "err := json.Unmarshal(jsonData, &result)\n",
    "if err != nil {\n",
    "  fmt.Println(\"Error:\", err)\n",
    "  return\n",
    "}\n",
    "\n",
    "// Accessing dynamic JSON fields\n",
    "dataMap, ok := result.(map[string]interface{})\n",
    "if !ok {\n",
    "  fmt.Println(\"Invalid JSON structure\")\n",
    "  return\n",
    "}\n",
    "\n",
    "// Accessing specific fields\n",
    "name, nameExists := dataMap[\"name\"].(string)\n",
    "age, ageExists := dataMap[\"age\"].(float64)\n",
    "city, cityExists := dataMap[\"city\"].(string)\n",
    "hasCar, hasCarExists := dataMap[\"hasCar\"].(bool)\n",
    "languages, languagesExists := dataMap[\"languages\"].([]interface{})\n",
    "\n",
    "// Displaying parsed data\n",
    "if nameExists {\n",
    "  fmt.Println(\"Name:\", name)\n",
    "}\n",
    "\n",
    "if ageExists {\n",
    "  fmt.Println(\"Age:\", int(age))\n",
    "}\n",
    "\n",
    "if cityExists {\n",
    "  fmt.Println(\"City:\", city)\n",
    "}\n",
    "\n",
    "if hasCarExists {\n",
    "  fmt.Println(\"Has Car:\", hasCar)\n",
    "}\n",
    "\n",
    "if languagesExists {\n",
    "  fmt.Println(\"Languages:\")\n",
    "  for _, lang := range languages {\n",
    "    fmt.Println(\" -\", lang)\n",
    "  }\n",
    "}"
   ]
  },
  {
   "cell_type": "markdown",
   "id": "48cec462-c700-49b5-ad7c-eb08c20e00ad",
   "metadata": {},
   "source": [
    "## Test"
   ]
  },
  {
   "cell_type": "code",
   "execution_count": 9,
   "id": "f5abdcba-3fd1-4207-b237-6b03d9602486",
   "metadata": {
    "jupyter": {
     "source_hidden": true
    }
   },
   "outputs": [
    {
     "name": "stdout",
     "output_type": "stream",
     "text": [
      "=== RUN   TestAdd\n",
      "--- PASS: TestAdd (0.00s)\n",
      "PASS\n"
     ]
    }
   ],
   "source": [
    "func Add(a ...int) int {\n",
    "  total := 0\n",
    "  for i := range a {\n",
    "    total += a[i]\n",
    "  }\n",
    "  return total\n",
    "}\n",
    "\n",
    "%test\n",
    "func TestAdd(t *testing.T) {\n",
    "  // case 1\n",
    "  if res := Add(1, 2, 3); res != 6 {\n",
    "    t.Errorf(\"Expected %d instead of %d\", 6, res)\n",
    "  }\n",
    "\n",
    "  // case 2\n",
    "  if res := Add(-1, -2); res != -3 {\n",
    "    t.Errorf(\"Expected %d instead of %d\", -3, res)\n",
    "  }\n",
    "}"
   ]
  },
  {
   "cell_type": "code",
   "execution_count": null,
   "id": "375b6cdb-2e45-47a5-a969-9013224c83aa",
   "metadata": {
    "jupyter": {
     "source_hidden": true
    }
   },
   "outputs": [],
   "source": []
  }
 ],
 "metadata": {
  "kernelspec": {
   "display_name": "Go (gonb)",
   "language": "go",
   "name": "gonb"
  },
  "language_info": {
   "codemirror_mode": "",
   "file_extension": ".go",
   "mimetype": "",
   "name": "go",
   "nbconvert_exporter": "",
   "pygments_lexer": "",
   "version": "go1.19.8"
  }
 },
 "nbformat": 4,
 "nbformat_minor": 5
}
