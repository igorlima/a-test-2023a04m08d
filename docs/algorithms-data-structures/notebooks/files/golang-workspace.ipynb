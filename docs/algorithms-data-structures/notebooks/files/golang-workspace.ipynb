{
 "cells": [
  {
   "cell_type": "markdown",
   "id": "e1c61de2-1790-418d-9494-7d13ea1e787c",
   "metadata": {},
   "source": [
    "# Golang Workspace"
   ]
  },
  {
   "cell_type": "markdown",
   "id": "a12401a3-0ee7-49ea-8f33-402ae0be0aa9",
   "metadata": {},
   "source": [
    "## Intro"
   ]
  },
  {
   "cell_type": "code",
   "execution_count": 1,
   "id": "8cf33965-8ee7-4f67-b440-e360f2d418c4",
   "metadata": {},
   "outputs": [
    {
     "name": "stdout",
     "output_type": "stream",
     "text": [
      "/root/go\n",
      "/root/go/bin:/usr/local/bin:/usr/local/sbin:/usr/sbin:/usr/bin:/sbin:/bin\n",
      "go version go1.19.8 linux/amd64\n"
     ]
    }
   ],
   "source": [
    "// %env GOPATH=/root/go\n",
    "// %env PATH=/root/go:/usr/local/bin:/usr/local/sbin:/usr/local/bin:/usr/sbin:/usr/bin:/sbin:/bin\n",
    "!echo $GOPATH\n",
    "!echo $PATH\n",
    "!go version"
   ]
  },
  {
   "cell_type": "markdown",
   "id": "95c872ca-859c-4f02-afd8-3ae252bcdcf4",
   "metadata": {},
   "source": [
    "## Golang Kernel"
   ]
  },
  {
   "cell_type": "code",
   "execution_count": 2,
   "id": "b47a67b2-8482-4ae6-bdb2-b523631aca28",
   "metadata": {},
   "outputs": [
    {
     "data": {
      "text/markdown": [
       "## GoNB Help Page\n",
       "\n",
       "**GoNB** is a Go kernel that compiles and executes on-the-fly Go code.\n",
       "\n",
       "When executing a cell, **GoNB** will save the cell contents (except non-Go commands see\n",
       "below) into a `main.go` file, compile and execute it.\n",
       "\n",
       "It also saves any global declarations (imports, functions, types, variables, constants)\n",
       "and reuse them at the next cell execution -- so you can define a function in one\n",
       "cell, and reuse in the next one. Just the `func main()` is not reused.\n",
       "\n",
       "A `hello world` example would look like:\n",
       "\n",
       "```go\n",
       "func main() {\n",
       "    fmt.Printf(`Hello world!\\n`);\n",
       "}\n",
       "\n",
       "```\n",
       "\n",
       "But to avoid having to type `func main()` all the time, you can use `%%` and everything\n",
       "after is wrapped inside a `func main() { ... }`. \n",
       "So our revised `hello world` looks like:\n",
       "\n",
       "```go\n",
       "%%\n",
       "fmt.Printf(`Hello world!\\n`)\n",
       "\n",
       "```\n",
       "\n",
       "\n",
       "### Init Functions -- `func init()`\n",
       "\n",
       "Since there is always only one definition per function name, it's not possible for\n",
       "each cell to have its own init() function. \n",
       "Instead, **GoNB** converts any function named `init_something()` to `init()` before \n",
       "compiling and executing. \n",
       "This way each cell can create its own `init_...()` and have it called at every cell execution.\n",
       "\n",
       "\n",
       "### Special non-Go Commands\n",
       "\n",
       "- `%%` or `%main`: Marks the lines as follows to be wrapped in a `func main() {...}` during\n",
       "  execution. A shortcut to quickly execute code. It also automatically includes `flag.Parse()`\n",
       "  as the very first statement. Anything `%%` or `%main` are taken as arguments\n",
       "  to be passed to the program -- it resets previous values given by `%args`.\n",
       "- `%args`: Sets arguments to be passed when executing the Go code. This allows one to\n",
       "  use flags as a normal program. Notice that if a value after `%%` or `%main` is given, it will\n",
       "  overwrite the values here.\n",
       "- `%autoget` and `%noautoget`: Default is `%autoget`, which automatically does `go get` for\n",
       "  packages not yet available.\n",
       "- `%cd [<directory>]`: Change current directory of the Go kernel, and the directory from where\n",
       "  the cells are executed. If no directory is given it reports the current directory.\n",
       "- `%env VAR value`: Sets the environment variable VAR to the given value. These variables\n",
       "  will be available both for Go code and for shell scripts.\n",
       "- `%goflags <values...>`: Configures list of extra arguments to pass to `go build` when compiling the\n",
       "  code for execution of a cell.\n",
       "  If no values are given, it simply shows the current setting.\n",
       "  To reset its value, use `%goflags \"\"\"`.\n",
       "  See example on how to use this in the [tutorial](https://github.com/janpfeifer/gonb/blob/main/examples/tutorial.ipynb). \n",
       "- `%with_inputs`: will prompt for inputs for the next shell command. Use this if\n",
       "  the next shell command (`!`) you execute reads the stdin. Jupyter will require\n",
       "  you to enter one last value after the shell script executes.\n",
       "- `%with_password`: will prompt for a password passed to the next shell command.\n",
       "  Do this is if your next shell command requires a password.\n",
       "\n",
       "Notice all these commands are executed **before** any Go code in the same cell.\n",
       "\n",
       "### Managing Memorized Definitions\n",
       "\n",
       "- `%list` (or `%ls`): Lists all memorized definitions (imports, constants, types, variables and\n",
       "  functions) that are carried from one cell to another.\n",
       "- `%remove <definitions>` (or `%rm <definitions>`): Removes (forgets) given definition(s). Use as key the\n",
       "  value(s) listed with `%ls`.\n",
       "- `%reset [go.mod]` clears all memorized definitions (imports, constants, types, functions, etc.)\n",
       "  as well as re-initializes the `go.mod` file. \n",
       "  If the optional `go.mod` parameter is given, it will re-initialize only the `go.mod` file -- \n",
       "  useful when testing different set up of versions of libraries.\n",
       "\n",
       "\n",
       "### Executing Shell Commands\n",
       "\n",
       "- `!<shell_cmd>`: executes the given command on a new shell. It makes it easy to run\n",
       "  commands on the kernels box, for instance to install requirements, or quickly\n",
       "  check contents of directories or files. Lines ending in `\\` are continued on\n",
       "  the next line -- so multi-line commands can be entered. But each command is\n",
       "  executed in its own shell, that is, variables and state is not carried over.\n",
       "- `!*<shell_cmd>`: same as `!<shell_cmd>` except it first changes directory to\n",
       "  the temporary directory used to compile the go code -- the latest execution\n",
       "  is always saved in the file `main.go`. It's also where the `go.mod` file for\n",
       "  the notebook is created and maintained. Useful for manipulating `go.mod`,\n",
       "  for instance to get a package from some specific version, something\n",
       "  like `!*go get github.com/my/package@v3`.\n",
       "\n",
       "Notice that when the cell is executed, first all shell commands are executed, and only after that, if there is\n",
       "any Go code in the cell, it is executed.\n",
       "\n",
       "### Tracking of Go Files In Development:\n",
       "\n",
       "A convenient way to develop programs or libraries in **GoNB** is to use replace\n",
       "rules in **GoNB**'s `go.mod` to your program or library being developed and test\n",
       "your program from **GoNB** -- see the \n",
       "[Tutorial]((https://github.com/janpfeifer/gonb/blob/main/examples/tutorial.ipynb))'s\n",
       "section \"Developing Go libraries with a notebook\" for different ways of achieving this.\n",
       "\n",
       "To manipulate the list of files tracked for changes:\n",
       "\n",
       "- `%track [file_or_directory]`: add file or directory to list of tracked files,\n",
       "  which are monitored by **GoNB** (and 'gopls') for auto-complete or contextual help.\n",
       "  If no file is given, it lists the currently tracked files.\n",
       "- `%untrack [file_or_directory][...]`: remove file or directory from list of tracked files.\n",
       "  If suffixed with `...` it will remove all files prefixed with the string given (without the\n",
       "  `...`). If no file is given, it lists the currently tracked files.\n",
       "\n",
       "\n",
       "### Environment Variables\n",
       "\n",
       "For convenience, **GoNB** defines the following environment variables -- available for the shell\n",
       "scripts (`!` and `!*`) and for the Go cells:\n",
       "\n",
       "- `GONB_DIR`: the directory where commands are executed from. This can be changed with `%cd`.\n",
       "- `GONB_TMP_DIR`: the directory where the temporary Go code, with the cell code, is stored\n",
       "  and compiled. This is the directory where `!*` scripts are executed. It only changes when a kernel\n",
       "  is restarted, and a new temporary directory is created.\n",
       "- `GONB_PIPE`: is the _named pipe_ directory used to communicate rich content (HTML, images)\n",
       "  to the kernel. Only available for _Go_ cells, and a new one is created at every execution.\n",
       "  This is used by the `**GoNB**ui`` functions described above, and doesn't need to be accessed directly.\n",
       "\n",
       "### Widgets\n",
       "\n",
       "The package `gonbui/widgets` offers widgets that can be used to interact in a more\n",
       "dynamic way, using the HTML element in the browser. E.g.: buttons, sliders.\n",
       "\n",
       "It's not necessary to do anything, but, to help debug the communication system\n",
       "with the front-end, **GoNB** offers a couple of special commands:\n",
       "\n",
       "- `%widgets` - install the javascript needed to communicate with the frontend.\n",
       "  This is usually not needed, since it happens automatically when using Widgets.\n",
       "- `%widgets_hb` - send a _heartbeat_ signal to the front-end and wait for the\n",
       "  reply.\n",
       "  Used for debugging only.\n",
       "\n",
       "### Writing for WASM (WebAssembly) (Experimental)\n",
       "\n",
       "**GoNB** can also compile to WASM and run in the notebook. This is experimental, and likely to change\n",
       "(feedback is very welcome), and can be used to write interactive widgets in Go, in the notebook.\n",
       "\n",
       "When a cell with `%wasm` is executed, a temporary directory is created under the Jupyter root directory\n",
       "called `jupyter_files/<kernel unique id>/` and the cell is compiled to a wasm file and put in that \n",
       "directory.\n",
       "\n",
       "Then **GONB** outputs the javascript needed to run the compiled wam.\n",
       "\n",
       "In the Go code, the following extra constants/variables are created in the global namespace, and can be used\n",
       "in your Go code:\n",
       "\n",
       "- `GonbWasmDir`, `GonbWasmUrl`: the directory and url (served by Jupyter) where the generated `.wasm` files are read.\n",
       "  Potentially, the user can use it to serve other files.\n",
       "  These are unique for the kernel, but shared among cells.\n",
       "- `GonbWasmDivId`: When a `%wasm` cell is executed, an empty `<div id=\"<unique_id>\"></div>`\n",
       "  is created with a unique id -- every cell will have a different one.\n",
       "  This is where the Wasm code can dynamically create content.\n",
       "\n",
       "The following environment variables are set when `%wasm` is created:\n",
       "\n",
       "- `GONB_WASM_SUBDIR`, `GONB_WASM_URL`: the directory and url (served by Jupyter) where the generated `.wasm` files are read.\n",
       "  Potentially, the user can use it to serve other files.\n",
       "  These environment variables are available for shell scripts (`!...` and `!*...` special commands) and non-wasm \n",
       "  programs if they want to serve different files from there.\n",
       "\n",
       "\n",
       "### Writing Tests and Benchmarks\n",
       "\n",
       "If a cell includes the `%test` command (anywhere in cell), it is compiled with `go test`\n",
       "(as opposed to `go build`).\n",
       "This can be very useful both to demonstrate tests, or simply help develop/debug them in a notebook.\n",
       "\n",
       "If `%test` is given without any flags, it uses by default the flags `-test.v` (verbose) and `-test.run` defined\n",
       "with the list of the tests defined in the current cell. \n",
       "That is, it will run only the tests in the current cell. \n",
       "Also, if there are any benchmarks in the current cell, it appends the flag `-test.bench=.` and runs the benchmarks\n",
       "defined in the current cell.\n",
       "\n",
       "Alternatively one can use `%test <flags>`, and the `flags` are passed to the binary compiled with `go test`. \n",
       "Remember that test flags require to be prefixed with `test.`. \n",
       "So for a verbose output, use `%test -test.v`. \n",
       "For benchmarks, run `%test -test.bench=. -test.run=Benchmark`. \n",
       "\n",
       "See examples in the [`gotest.ipynb` notebook here](https://github.com/janpfeifer/gonb/blob/main/examples/tests/gotest.ipynb).\n",
       "\n",
       "\n",
       "### Cell Magic\n",
       "\n",
       "The following are special commands that change how the cell is interpreted, so they are prefixed with `%%` (two '%'\n",
       "symbols). They try to follow [IPython's Cell Magic](https://ipython.readthedocs.io/en/stable/interactive/magics.html#cell-magics).\n",
       "\n",
       "They must always appear as the first line of the cell.\n",
       "\n",
       "The contents in the cells are not assumed to be Go, so auto-complete and contextual help are disabled in those cells.\n",
       "\n",
       "#### `%%writefile`\n",
       "\n",
       "```\n",
       "%%writefile [-a] <filePath>\n",
       "```\n",
       "\n",
       "Write contents of the cell (except the first line with the '%%writefile') to the given `<filePath>`. If `-a` is given\n",
       "it will append the cell contents to the file.\n",
       "\n",
       "This can be handy if for instance the notebook needs to write a configuration file, or simply to dump the code inside\n",
       "the cell into some file.\n",
       "\n",
       "File path passes through a tilde (`~`) expansion to the user's home directory, as well as environment variable substitution (e.g.: `${HOME}` or `$MY_DIR/a/b`). \n",
       "\n",
       "### `%%script`, `%%bash` and `%%sh`\n",
       "\n",
       "```\n",
       "%%script <command>\n",
       "```\n",
       "\n",
       "Execute `<command>` and feed it (`STDIN`) with the contents of the cell. The `%%bash` and `%%sh` magic is an alias to `%%script bash` and `%%script sh` respectively.\n",
       "\n",
       "Generally, a convenient way to run larger scripts.\n",
       "\n",
       "\n",
       "### Other\n",
       "\n",
       "- `%goworkfix`: work around 'go get' inability to handle 'go.work' files. If you are\n",
       "  using 'go.work' file to point to locally modified modules, consider using this. It creates\n",
       "  'go mod edit --replace' rules to point to the modules pointed to the 'use' rules in 'go.work'\n",
       "  file.\n",
       "  It overwrites/updates 'replace' rules for those modules, if they already exist. See \n",
       "  [tutorial](https://github.com/janpfeifer/gonb/blob/main/examples/tutorial.ipynb) for an example.\n",
       "\n",
       "### Links\n",
       "\n",
       "- [github.com/janpfeifer/gonb](https://github.com/janpfeifer/gonb) - GitHub page.\n",
       "- [Tutorial](https://github.com/janpfeifer/gonb/blob/main/examples/tutorial.ipynb).\n",
       "- [go.dev](https://pkg.go.dev/github.com/janpfeifer/gonb) package reference."
      ]
     },
     "metadata": {},
     "output_type": "display_data"
    }
   ],
   "source": [
    "// reference documentation\n",
    "%help"
   ]
  },
  {
   "cell_type": "code",
   "execution_count": 3,
   "id": "d1a0b992-4e3f-425b-92e5-103b14c096ed",
   "metadata": {},
   "outputs": [
    {
     "name": "stdout",
     "output_type": "stream",
     "text": [
      "Hello, Gianni!\n"
     ]
    }
   ],
   "source": [
    "import \"fmt\"\n",
    "\n",
    "%%\n",
    "fmt.Println(\"Hello, Gianni!\")"
   ]
  },
  {
   "cell_type": "markdown",
   "id": "2f04a3f0-086b-4a32-a0cc-4ce92c15dbde",
   "metadata": {},
   "source": [
    "## Useful and Versatile Go Code Snippets\n",
    "\n",
    "by Beck Moulton\n",
    "[published on Medium](https://levelup.gitconnected.com/useful-and-versatile-go-code-snippets-592cdf31b637)\n",
    "\n"
   ]
  },
  {
   "cell_type": "markdown",
   "id": "fc38f050-0c39-4eb7-a625-d8328c6b0730",
   "metadata": {},
   "source": [
    "### Timing Execution"
   ]
  },
  {
   "cell_type": "code",
   "execution_count": 4,
   "id": "136db3d3-d99a-4c36-b372-39e412ea0efa",
   "metadata": {},
   "outputs": [
    {
     "name": "stdout",
     "output_type": "stream",
     "text": [
      "elapsed: 500.758575ms\n"
     ]
    }
   ],
   "source": [
    "import \"fmt\"\n",
    "// Utility\n",
    "\n",
    "func TrackTime(pre time.Time) time.Duration {\n",
    " elapsed := time.Since(pre)\n",
    " fmt.Println(\"elapsed:\", elapsed)\n",
    " return elapsed\n",
    "}\n",
    "\n",
    "%%\n",
    "defer TrackTime(time.Now()) // <--- THIS\n",
    "time.Sleep(500 * time.Millisecond)"
   ]
  },
  {
   "cell_type": "markdown",
   "id": "47b5cede-b4c9-419b-aef6-ddb2e1fc33d8",
   "metadata": {},
   "source": [
    "### Two-Stage Deferred Execution"
   ]
  },
  {
   "cell_type": "code",
   "execution_count": 5,
   "id": "923c59a6-ff10-40c3-b3a7-244fcaf703d4",
   "metadata": {},
   "outputs": [
    {
     "name": "stdout",
     "output_type": "stream",
     "text": [
      "Run initialization\n",
      "Main function called\n",
      "Run cleanup\n"
     ]
    }
   ],
   "source": [
    "func setupTeardown() func() {\n",
    "  fmt.Println(\"Run initialization\")\n",
    "  return func() {\n",
    "    fmt.Println(\"Run cleanup\")\n",
    "  }\n",
    "}\n",
    "\n",
    "func main() {\n",
    "  defer setupTeardown()() // <--------\n",
    "  fmt.Println(\"Main function called\")\n",
    "}"
   ]
  },
  {
   "cell_type": "markdown",
   "id": "6126a13a-60a7-4152-bd34-185bd8882d1c",
   "metadata": {},
   "source": [
    "### Method Chaining"
   ]
  },
  {
   "cell_type": "code",
   "execution_count": 6,
   "id": "ed464339-4a53-4ab2-a11a-f99e7bb11d10",
   "metadata": {},
   "outputs": [
    {
     "name": "stdout",
     "output_type": "stream",
     "text": [
      "{Aiden 30}\n",
      "{AIDEN 31}\n"
     ]
    }
   ],
   "source": [
    "import \"fmt\"\n",
    "\n",
    "type Person struct {\n",
    "  Name string\n",
    "  Age  int\n",
    "}\n",
    "\n",
    "func (p *Person) AddAge() *Person {\n",
    "  p.Age++\n",
    "  return p\n",
    "}\n",
    "\n",
    "func (p *Person) Rename(name string) *Person {\n",
    "  p.Name = name\n",
    "  return p\n",
    "}\n",
    "\n",
    "%%\n",
    "p := Person{Name: \"Aiden\", Age: 30}\n",
    "fmt.Println(p)\n",
    "p = *p.AddAge().Rename(\"AIDEN\")\n",
    "fmt.Println(p)"
   ]
  }
 ],
 "metadata": {
  "kernelspec": {
   "display_name": "Go (gonb)",
   "language": "go",
   "name": "gonb"
  },
  "language_info": {
   "codemirror_mode": "",
   "file_extension": ".go",
   "mimetype": "",
   "name": "go",
   "nbconvert_exporter": "",
   "pygments_lexer": "",
   "version": "go1.19.8"
  }
 },
 "nbformat": 4,
 "nbformat_minor": 5
}
