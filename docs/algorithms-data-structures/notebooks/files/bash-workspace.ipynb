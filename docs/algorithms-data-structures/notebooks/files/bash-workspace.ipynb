{
 "cells": [
  {
   "cell_type": "markdown",
   "id": "34182546-9522-4b23-9b52-fc1f60531b7e",
   "metadata": {},
   "source": [
    "# Bash Workspace"
   ]
  },
  {
   "cell_type": "markdown",
   "id": "9a5d4032-4df7-4f5c-b506-d318eb466353",
   "metadata": {},
   "source": [
    "## Intro"
   ]
  },
  {
   "cell_type": "markdown",
   "id": "6c2f6493-62be-4f4a-9859-0c44db6ef03c",
   "metadata": {},
   "source": [
    "List all the shells that are currently installed on our machine by reading the `/etc/shell` file:"
   ]
  },
  {
   "cell_type": "code",
   "execution_count": 3,
   "id": "3d8ddd65-8cd8-4167-92ae-ed4eea04c347",
   "metadata": {},
   "outputs": [
    {
     "name": "stdout",
     "output_type": "stream",
     "text": [
      "# /etc/shells: valid login shells\n",
      "/bin/sh\n",
      "/usr/bin/sh\n",
      "/bin/bash\n",
      "/usr/bin/bash\n",
      "/bin/rbash\n",
      "/usr/bin/rbash\n",
      "/bin/dash\n",
      "/usr/bin/dash\n"
     ]
    }
   ],
   "source": [
    "cat /etc/shells"
   ]
  },
  {
   "cell_type": "markdown",
   "id": "f0108b8f-a67f-49d8-87ea-127a89676cbe",
   "metadata": {
    "jp-MarkdownHeadingCollapsed": true
   },
   "source": [
    "## A Jupyter kernel for bash\n",
    "\n",
    "- [github repo](https://github.com/takluyver/bash_kernel)\n",
    "\n",
    "```sh\n",
    "cat dog.png | display\n",
    "echo \"<b>Dog</b>, not a cat.\" | displayHTML\n",
    "echo \"alert('It is known khaleesi\\!');\" | displayJS\n",
    "```"
   ]
  },
  {
   "cell_type": "code",
   "execution_count": 3,
   "id": "eefa8700-287c-4712-afc0-9f3c9bcb478c",
   "metadata": {},
   "outputs": [
    {
     "name": "stdout",
     "output_type": "stream",
     "text": [
      "README.md\t\tpython-workspace.ipynb\trun-docker-notebook-d.sh\n",
      "bash-workspace.ipynb\trun-docker-bash.sh\trun-docker.sh\n",
      "golang-workspace.ipynb\trun-docker-d.sh\n"
     ]
    }
   ],
   "source": [
    "ls"
   ]
  },
  {
   "cell_type": "markdown",
   "id": "107aac76-a493-4b78-adcb-a9f4cdfb41ea",
   "metadata": {},
   "source": [
    "## Special Characters and Operatons"
   ]
  },
  {
   "cell_type": "code",
   "execution_count": 25,
   "id": "9cffc3d8-46d0-4383-bfac-c444b8ea366d",
   "metadata": {},
   "outputs": [
    {
     "name": "stdout",
     "output_type": "stream",
     "text": [
      "/root\n",
      "/root\n",
      "\n",
      "\n",
      "2\n",
      "/usr/bin/bash\n",
      "root\n",
      "/some/alternative/path\n"
     ]
    }
   ],
   "source": [
    "specialChars() {\n",
    "  echo ~+ # same as \"echo $PWD\"\n",
    "  cd ~\n",
    "  echo ~- # same as \"echo $OLDPWD\"\n",
    "  echo $* # all positional arguments passed to script, function, etc\n",
    "  echo $@ # same as above\n",
    "\n",
    "  :  # means no operation (no-op)\n",
    "\n",
    "  # ternary operator in Bash!\n",
    "  variable=$(( 1>2 ? 1:2 ))\n",
    "  echo $variable\n",
    "  # 2\n",
    "\n",
    "  # get last positional parameter\n",
    "  last_arg=${!#}\n",
    "  echo $last_arg\n",
    "  # ./script.sh 1 2 3 4\n",
    "  # 4\n",
    "\n",
    "  # if `username` not set, set default value to output of `whoami` command\n",
    "  echo ${username:-$(whoami)}\n",
    "  # output of `whoami` command\n",
    "\n",
    "  # if variable is set, use alternative value\n",
    "  path=/some/path\n",
    "  path=${path:+/some/alternative/path}\n",
    "  echo $path\n",
    "  # /some/alternative/path\n",
    "}\n",
    "specialChars"
   ]
  },
  {
   "cell_type": "markdown",
   "id": "d036af37-7570-487b-b892-995bf50b28e3",
   "metadata": {},
   "source": [
    "### base 64 / hex string"
   ]
  },
  {
   "cell_type": "code",
   "execution_count": 30,
   "id": "f7d92c3e-b755-475f-b99a-42f99655e3a7",
   "metadata": {},
   "outputs": [
    {
     "name": "stdout",
     "output_type": "stream",
     "text": [
      "a\n",
      "65\n",
      "0\n",
      "16\n"
     ]
    }
   ],
   "source": [
    "# generating all the characters for a valid base 64 / hex string\n",
    "baseAndHex() {\n",
    "  b64_chars=( {a..z} {A..Z} {0..9} + / = )\n",
    "  echo $b64_chars\n",
    "  echo \"${#b64_chars[@]}\"\n",
    "  # a b c d e f g h i j k l m n o p q r s t u v w x y z A B C D E F G H I J K L M N O P Q R S T U V W X Y Z 0 1 2 3 4 5 6 7 8 9 + / =\n",
    "\n",
    "  hex_chars=( {0..9} {a..f} )\n",
    "  echo $hex_chars\n",
    "  echo \"${#hex_chars[@]}\"\n",
    "  # 0 1 2 3 4 5 6 7 8 9 a b c d e f\n",
    "}\n",
    "baseAndHex"
   ]
  },
  {
   "cell_type": "markdown",
   "id": "13cdc67a-f46f-4ff3-984a-462786887d96",
   "metadata": {},
   "source": [
    "### checking if parameter is set, else printing error message and exit"
   ]
  },
  {
   "cell_type": "code",
   "execution_count": 35,
   "id": "4bd90c40-d1c7-4f3b-a31f-12c7d094cc2f",
   "metadata": {},
   "outputs": [
    {
     "name": "stdout",
     "output_type": "stream",
     "text": [
      "\n",
      "...\n",
      "\n",
      "\n",
      "\n",
      "bash: 1: usage: bash <username>\n",
      "\n",
      "...\n",
      "a\n",
      "\n",
      "\n",
      "bash: 2: usage: bash <username>\n",
      "\n",
      "...\n",
      "a\n",
      "b\n",
      "\n"
     ]
    }
   ],
   "source": [
    "checkParameter() {\n",
    "  local args=(\"$@\")\n",
    "  echo \"${args[0]}\"\n",
    "  echo \"${args[1]}\"\n",
    "  echo \"${args[2]}\"\n",
    "  : ${1?\"usage: `basename $0` <username>\"}\n",
    "  : ${2?\"usage: `basename $0` <username>\"}\n",
    "}\n",
    "echo -e \"\\n...\"\n",
    "checkParameter\n",
    "echo -e \"\\n...\"\n",
    "checkParameter \"a\"\n",
    "echo -e \"\\n...\"\n",
    "checkParameter \"a\" \"b\""
   ]
  },
  {
   "cell_type": "markdown",
   "id": "7b5b6e65-9e43-406e-a980-eea857cee82b",
   "metadata": {},
   "source": [
    "### anonymous functions"
   ]
  },
  {
   "cell_type": "code",
   "execution_count": 46,
   "id": "e85f3c4a-2286-4510-b290-05938905e512",
   "metadata": {},
   "outputs": [
    {
     "name": "stdout",
     "output_type": "stream",
     "text": [
      "listing HOME folder\n",
      "total 4\n",
      "drwxr-xr-x. 4 root root 28 May  8 02:46 go\n",
      "-rw-r--r--. 1 root root 20 May 12 21:04 results.txt\n",
      "pinging Amazon.com\n",
      "\n",
      "...\n",
      "total 4\n",
      "drwxr-xr-x. 4 root root  28 May  8 02:46 go\n",
      "-rw-r--r--. 1 root root 142 May 12 21:04 results.txt\n",
      "do something else\n"
     ]
    }
   ],
   "source": [
    "# send output of code block to file\n",
    "{\n",
    "  echo 'listing HOME folder'\n",
    "  ls -l ~\n",
    "  echo 'pinging Amazon.com'\n",
    "} > results.txt\n",
    "cat results.txt\n",
    "\n",
    "echo -e \"\\n...\"\n",
    "# invoke anonymous function after conditional check\n",
    "# the \"-z\" option in bash scripting is a test operator that checks if a string is null.\n",
    "[ ! -z $HOME ] && {\n",
    "  ls -l ~\n",
    "  echo 'do something else'\n",
    "}"
   ]
  },
  {
   "cell_type": "markdown",
   "id": "cb25c03b-a540-4497-ba33-e850c967d25e",
   "metadata": {},
   "source": [
    "### string manipulation"
   ]
  },
  {
   "cell_type": "code",
   "execution_count": 56,
   "id": "11425c73-36de-4f63-aee4-3276ec370e59",
   "metadata": {},
   "outputs": [
    {
     "name": "stdout",
     "output_type": "stream",
     "text": [
      "bash: !/trick!}: event not found\n",
      "awesome is Bash - Bash is so cool cool!\n",
      "awesome is Bash - Bash is so awesome awesome!\n",
      "is Bash - Bash is so cool cool!\n",
      "!\n",
      "cool is Bash - Bash is so cool\n",
      "\n",
      "tricky is Bash - Bash is so cool cool!\n"
     ]
    }
   ],
   "source": [
    "strManipulation() {\n",
    "  str='cool is Bash - Bash is so cool cool!'\n",
    "\n",
    "  # substitute first occurence of word \"cool\" with \"awesome\"\n",
    "  echo ${str/cool/awesome}\n",
    "\n",
    "  # substitute all occurances of word \"cool with \"awesome\"\n",
    "  echo ${str//cool/awesome}\n",
    "\n",
    "  # strip string until first occurence of \"cool\" from front of string\n",
    "  echo ${str#*cool}\n",
    "\n",
    "  # strip string until last occurance of \"cool\" from front of string\n",
    "  echo ${str##*cool}\n",
    "\n",
    "  # strip string until first occurence of \"cool\" from back of string\n",
    "  echo ${str%cool*}\n",
    "\n",
    "  # strip string until last occurence of \"cool\" from back of string\n",
    "  echo ${str%%cool*}\n",
    "\n",
    "  # if variable prefix (beginning of string) matches \"cool\"\n",
    "  # replace \"cool\" with tricky\n",
    "  echo ${str/#cool/tricky}\n",
    "\n",
    "  # if variable suffix (end of string) matches \"cool!\"\n",
    "  # replace \"cool!\" with tricky!\n",
    "  echo ${str/%cool\\\\!/trick!}\n",
    "}\n",
    "strManipulation"
   ]
  },
  {
   "cell_type": "markdown",
   "id": "53c48773-2f62-4e55-b640-4a8ac6c9b069",
   "metadata": {},
   "source": [
    "### loop using shift"
   ]
  },
  {
   "cell_type": "code",
   "execution_count": 57,
   "id": "523f3554-58a1-4768-9d2c-fa6e06743817",
   "metadata": {},
   "outputs": [
    {
     "name": "stdout",
     "output_type": "stream",
     "text": [
      "arg: a\n",
      "arg: b\n",
      "arg: c\n",
      "arg: d\n",
      "arg: e\n",
      "arg: f\n"
     ]
    }
   ],
   "source": [
    "# Until loop using shift to parse args passed to script or function\n",
    "loopShift() {\n",
    "  until [ -z $1 ]\n",
    "  do\n",
    "    echo \"arg: $1\"\n",
    "    shift # moves all positional parameters to the left\n",
    "  done\n",
    "}\n",
    "loopShift 'a' 'b' 'c' 'd' 'e' 'f'"
   ]
  },
  {
   "cell_type": "markdown",
   "id": "4f80f3f2-064c-4da4-9c3f-b2096189421f",
   "metadata": {},
   "source": [
    "### parse space-separated values"
   ]
  },
  {
   "cell_type": "code",
   "execution_count": 59,
   "id": "ff9b5e42-47fd-4531-ae58-b379ef31e272",
   "metadata": {},
   "outputs": [
    {
     "name": "stdout",
     "output_type": "stream",
     "text": [
      "Will is 31 years old\n",
      "Jack is 40 years old\n",
      "Elizabeth is 29 years old\n"
     ]
    }
   ],
   "source": [
    "# use \"set\" to parse space-separated values as positional arguments\n",
    "parse() {\n",
    "  for arg in \"Will 31\" \"Jack 40\" \"Elizabeth 29\"; do\n",
    "    # NOTE: '--' tells Bash that values starting \"-\" should be treated as\n",
    "    # positional arguments and not options.\n",
    "    set -- $arg\n",
    "    name=$1\n",
    "    age=$2\n",
    "    echo \"$name is $age years old\"\n",
    "  done\n",
    "  # Will is 31 years old\n",
    "  # Jack is 40 years old\n",
    "  # Elizabeth is 29 years old\n",
    "}\n",
    "parse 'a' 'b' 'c' 'd' 'e' 'f'"
   ]
  },
  {
   "cell_type": "markdown",
   "id": "4aebd190-3ef0-42c3-8339-ef1410d855ba",
   "metadata": {},
   "source": [
    "### Handle Errors"
   ]
  },
  {
   "cell_type": "code",
   "execution_count": 60,
   "id": "6ba5300b-c2a5-4699-843e-6bbecbc27456",
   "metadata": {},
   "outputs": [
    {
     "name": "stdout",
     "output_type": "stream",
     "text": [
      "cat: file: No such file or directory\n",
      "Exit code 1\n",
      "Handling error..\n"
     ]
    }
   ],
   "source": [
    "handleError() {\n",
    "  if cat file; then\n",
    "    echo \"Exit code 0. No problems.\"\n",
    "  else\n",
    "    echo \"Exit code $?\"\n",
    "    echo \"Handling error..\"\n",
    "  fi\n",
    "}\n",
    "handleError"
   ]
  },
  {
   "cell_type": "markdown",
   "id": "82e414be-c7b2-4708-aec2-2b0baedfcb08",
   "metadata": {},
   "source": [
    "### Timeout"
   ]
  },
  {
   "cell_type": "code",
   "execution_count": 67,
   "id": "555fa1e5-d4b1-41d9-9c8f-99a24a0824df",
   "metadata": {},
   "outputs": [
    {
     "name": "stdout",
     "output_type": "stream",
     "text": [
      "Sun May 12 21:24:38 UTC 2024\n",
      "Sun May 12 21:24:40 UTC 2024\n",
      "Done\n",
      "Sun May 12 21:24:40 UTC 2024\n",
      "DONE\n"
     ]
    }
   ],
   "source": [
    "date\n",
    "timeout 2s sleep 5\n",
    "date\n",
    "timeout 2s echo Done\n",
    "date\n",
    "timeout 3s bash -c 'echo DONE'"
   ]
  },
  {
   "cell_type": "markdown",
   "id": "813aa084-1094-4390-9501-cedbd403eb10",
   "metadata": {
    "jp-MarkdownHeadingCollapsed": true
   },
   "source": [
    "## Handle Arguments And Options\n",
    "\n",
    "Sometimes, we want to add arguments to provide to our script variables to make it more generic.\n",
    "\n",
    "- `$1` is the first argument\n",
    "- `$#` variable returns the number of arguments provided to the command line\n",
    "- `${#args[@]}` returns the number of args array elements\n",
    "\n",
    "The `shift` command is another handy tool for managing arguments in bash scripts. It ‘shifts’ all arguments to the left. For instance, if you use shift, `$2` becomes `$1`, `$3` becomes `$2`, and so on. The original first argument is discarded."
   ]
  },
  {
   "cell_type": "markdown",
   "id": "7b7c6ddc-c656-47e2-84d2-c504c6285625",
   "metadata": {
    "jp-MarkdownHeadingCollapsed": true
   },
   "source": [
    "### One argument"
   ]
  },
  {
   "cell_type": "code",
   "execution_count": 30,
   "id": "85aec4b6-aae3-4510-bd5c-c7b15cea0d60",
   "metadata": {},
   "outputs": [
    {
     "name": "stdout",
     "output_type": "stream",
     "text": [
      "\n",
      "ONE ARGUMENT\n",
      "hello\n"
     ]
    }
   ],
   "source": [
    "# ONE ARGUMENT\n",
    "oneArgument () {\n",
    "  echo $1\n",
    "}\n",
    "echo -e \"\\nONE ARGUMENT\"\n",
    "oneArgument hello"
   ]
  },
  {
   "cell_type": "markdown",
   "id": "aa387d82-c35c-428e-a9c3-f6e0f3bebdad",
   "metadata": {},
   "source": [
    "### Multiple Arguments"
   ]
  },
  {
   "cell_type": "code",
   "execution_count": 31,
   "id": "e7f7a259-21ea-4c96-962c-2d5af30abbdd",
   "metadata": {},
   "outputs": [
    {
     "name": "stdout",
     "output_type": "stream",
     "text": [
      "\n",
      "MULTIPLE ARGUMENTS\n",
      "hi John\n"
     ]
    }
   ],
   "source": [
    "# MULTIPLE ARGUMENTS\n",
    "multipleArguments () {\n",
    "  local args=(\"$@\")\n",
    "  if [ ${#args[@]} -ne 2 ]; then\n",
    "    echo \"Error: Missing or too many arguments.\"\n",
    "    exit 1\n",
    "  fi\n",
    "  local helloMessage=(${args[0]})\n",
    "  local name=(${args[1]})\n",
    "  echo $helloMessage $name\n",
    "}\n",
    "echo -e \"\\nMULTIPLE ARGUMENTS\"\n",
    "multipleArguments hi John"
   ]
  },
  {
   "cell_type": "markdown",
   "id": "fc0276a1-4604-4877-85df-e7d256e161b9",
   "metadata": {
    "jp-MarkdownHeadingCollapsed": true
   },
   "source": [
    "### Simple Option"
   ]
  },
  {
   "cell_type": "code",
   "execution_count": 32,
   "id": "4026ab95-ae61-46c1-9725-027577e6bb16",
   "metadata": {},
   "outputs": [
    {
     "name": "stdout",
     "output_type": "stream",
     "text": [
      "\n",
      "SIMPLE OPTION\n",
      "hello Anna\n",
      "hello\n"
     ]
    }
   ],
   "source": [
    "# SIMPLE OPTION\n",
    "simpleOption () {\n",
    "  local args\n",
    "  local short_presentation=false\n",
    "  while [ $# -gt 0 ]; do\n",
    "    case \"$1\" in\n",
    "      -s|--short-presentation)\n",
    "        short_presentation=true\n",
    "        shift\n",
    "        ;;\n",
    "      -*|--*)\n",
    "        echo \"Error: Invalid option: $1\"\n",
    "        ;;\n",
    "      *)\n",
    "        args+=(\"$1\")\n",
    "        shift\n",
    "        ;;\n",
    "    esac\n",
    "  done\n",
    "  if [ ${#args[@]} -ne 2 ]; then\n",
    "    echo \"Error: Missing or too many arguments.\"\n",
    "    exit 1\n",
    "  fi\n",
    "  local helloMessage=(${args[0]})\n",
    "  local name=(${args[1]})\n",
    "  if [ \"$short_presentation\" = true ]; then\n",
    "    echo $helloMessage\n",
    "  else\n",
    "    echo $helloMessage $name\n",
    "  fi\n",
    "}\n",
    "echo -e \"\\nSIMPLE OPTION\"\n",
    "simpleOption hello Anna\n",
    "simpleOption -s hello Anna"
   ]
  },
  {
   "cell_type": "markdown",
   "id": "dccd5487-28e3-4aa4-a816-9cbee4ddf9f7",
   "metadata": {
    "jp-MarkdownHeadingCollapsed": true
   },
   "source": [
    "### Value Option"
   ]
  },
  {
   "cell_type": "code",
   "execution_count": 33,
   "id": "e09305e6-f135-4f3b-98c6-8a0d87af7041",
   "metadata": {},
   "outputs": [
    {
     "name": "stdout",
     "output_type": "stream",
     "text": [
      "\n",
      "VALUE OPTION\n",
      "\\033[0;31mhi Jhon\\033[0m\n",
      "\\033[0;32mwhat's John\\033[0m\n",
      "\\033[0;33mhello Anna\\033[0m\n"
     ]
    }
   ],
   "source": [
    "# VALUE OPTION\n",
    "valueOption () {\n",
    "  local args\n",
    "  local short_presentation=false\n",
    "  local allowed_colors=\"green yellow red\"\n",
    "  check_option() {\n",
    "    for option in $2; do\n",
    "      if [ \"$option\" = \"$1\" ]; then\n",
    "        return 0\n",
    "      fi\n",
    "    done\n",
    "    echo \"Error: Invalid option value : $1\"\n",
    "    exit 1\n",
    "  }\n",
    "  echo_color () {\n",
    "    case $1 in\n",
    "    green)\n",
    "      echo \"\\033[0;32m${@:2}\\033[0m\"\n",
    "      ;;\n",
    "    yellow)\n",
    "      echo \"\\033[0;33m${@:2}\\033[0m\"\n",
    "      ;;\n",
    "    red)\n",
    "      echo \"\\033[0;31m${@:2}\\033[0m\"\n",
    "      ;;\n",
    "    *)\n",
    "      echo \"${@:2}\"\n",
    "      ;;\n",
    "    esac\n",
    "  }\n",
    "  while [ $# -gt 0 ]; do\n",
    "    case \"$1\" in\n",
    "      -s|--short-presentation)\n",
    "        short_presentation=true\n",
    "        shift\n",
    "        ;;\n",
    "      -c=*|--color=*)\n",
    "        check_option \"${1#*=}\" \"$allowed_colors\"\n",
    "        color=\"${1#*=}\"\n",
    "        shift\n",
    "        ;;\n",
    "      -*|--*)\n",
    "        echo \"Error: Invalid option: $1\"\n",
    "        exit 1\n",
    "        ;;\n",
    "      *)\n",
    "        args+=(\"$1\")\n",
    "        shift\n",
    "        ;;\n",
    "    esac\n",
    "  done\n",
    "  if [ ${#args[@]} -ne 2 ]; then\n",
    "    echo \"Error: Missing or too many arguments.\"\n",
    "  fi\n",
    "  local helloMessage=(${args[0]})\n",
    "  local name=(${args[1]})\n",
    "  if [ \"$short_presentation\" = true ]; then\n",
    "    echo_color $color $helloMessage\n",
    "  else\n",
    "    echo_color $color $helloMessage $name\n",
    "  fi\n",
    "}\n",
    "\n",
    "echo -e \"\\nVALUE OPTION\"\n",
    "valueOption \"hi\" \"Jhon\" --color=red\n",
    "valueOption \"what's up\" \"John\" --color=green\n",
    "valueOption hello Anna --color=yellow"
   ]
  },
  {
   "cell_type": "markdown",
   "id": "794a9874-0a62-4f37-970d-4b96066d911c",
   "metadata": {},
   "source": [
    "### Usage"
   ]
  },
  {
   "cell_type": "code",
   "execution_count": 2,
   "id": "fbb48b07-594b-44d6-8344-64d7c5ba1aab",
   "metadata": {},
   "outputs": [
    {
     "name": "stdout",
     "output_type": "stream",
     "text": [
      "\n",
      "Usage: /usr/bin/bash [...options] <hello_message> <name>\n",
      "Options:\n",
      "  -h, --help                 Show this help message.\n",
      "  -c, --color COLOR          Set the color for the message (green, yellow or red).\n",
      "  -s, --short-presentation   Display presentation message without name.\n",
      "\n",
      "Example: /usr/bin/bash -c green 'Hello' 'John'\n",
      "\n"
     ]
    }
   ],
   "source": [
    "usage() {\n",
    "  echo    \n",
    "  echo \"Usage: $0 [...options] <hello_message> <name>\"\n",
    "  echo \"Options:\"\n",
    "  echo \"  -h, --help                 Show this help message.\"\n",
    "  echo \"  -c, --color COLOR          Set the color for the message (green, yellow or red).\"\n",
    "  echo \"  -s, --short-presentation   Display presentation message without name.\"\n",
    "  echo\n",
    "  echo \"Example: $0 -c green 'Hello' 'John'\"\n",
    "  echo\n",
    "}\n",
    "usage"
   ]
  },
  {
   "cell_type": "code",
   "execution_count": 14,
   "id": "29a2dc0d-3228-4921-97f6-386a57fadf4f",
   "metadata": {},
   "outputs": [
    {
     "name": "stdout",
     "output_type": "stream",
     "text": [
      "\n",
      "SIMPLE USAGE\n",
      "Error: Invalid option: -d\n",
      "\n",
      "Usage: /usr/bin/bash [-s|--short-presentation] [-c|--color=<green|yellow|red>] [-h|--help] <hello_message> <name>\n",
      "\n",
      "exit\n",
      "Restarting Bash\n"
     ]
    }
   ],
   "source": [
    "# SIMPLE USAGE\n",
    "simpleUsage () {\n",
    "  local args\n",
    "  local short_presentation=false\n",
    "  local allowed_colors=\"green yellow red\"\n",
    "  usage() {\n",
    "    echo\n",
    "    echo \"Usage: $0 [-s|--short-presentation] [-c|--color=<green|yellow|red>] [-h|--help] <hello_message> <name>\"\n",
    "    echo\n",
    "  }\n",
    "  check_option() {\n",
    "    for option in $2; do\n",
    "      if [ \"$option\" = \"$1\" ]; then\n",
    "        return 0\n",
    "      fi\n",
    "    done\n",
    "    echo \"Error: Invalid option value : $1\"\n",
    "    usage\n",
    "    exit 1\n",
    "  }\n",
    "  echo_color () {\n",
    "    case $1 in\n",
    "    green)\n",
    "      echo \"\\033[0;32m${@:2}\\033[0m\"\n",
    "      ;;\n",
    "    yellow)\n",
    "      echo \"\\033[0;33m${@:2}\\033[0m\"\n",
    "      ;;\n",
    "    red)\n",
    "      echo \"\\033[0;31m${@:2}\\033[0m\"\n",
    "      ;;\n",
    "    *)\n",
    "      echo \"${@:2}\"\n",
    "      ;;\n",
    "    esac\n",
    "  }\n",
    "  while [ $# -gt 0 ]; do\n",
    "    case \"$1\" in\n",
    "      -h|--help)\n",
    "        usage\n",
    "        exit 1\n",
    "        ;;\n",
    "      -s|--short-presentation)\n",
    "        short_presentation=true\n",
    "        shift\n",
    "        ;;\n",
    "      -c=*|--color=*)\n",
    "        check_option \"${1#*=}\" \"$allowed_colors\"\n",
    "        color=\"${1#*=}\"\n",
    "        shift\n",
    "        ;;\n",
    "      -*|--*)\n",
    "        echo \"Error: Invalid option: $1\"\n",
    "        usage\n",
    "        exit 1\n",
    "        ;;\n",
    "      *)\n",
    "        args+=(\"$1\")\n",
    "        shift\n",
    "        ;;\n",
    "    esac\n",
    "  done\n",
    "  if [ ${#args[@]} -ne 2 ]; then\n",
    "    echo \"Error: Missing or too many arguments.\"\n",
    "    usage\n",
    "    exit 1\n",
    "  fi\n",
    "  local helloMessage=(${args[0]})\n",
    "  local name=(${args[1]})\n",
    "  if [ \"$short_presentation\" = true ]; then\n",
    "    echo_color $color $helloMessage\n",
    "  else\n",
    "    echo_color $color $helloMessage $name\n",
    "  fi\n",
    "}\n",
    "\n",
    "echo -e \"\\nSIMPLE USAGE\"\n",
    "# simpleUsage -h\n",
    "# simpleUsage \"what's up\" \"John\" \"how's it going\"\n",
    "# simpleUsage hello Anna --color=purple\n",
    "simpleUsage hello Anna -d"
   ]
  },
  {
   "cell_type": "markdown",
   "id": "9585a70b-f513-4cfe-884b-37c4b776b1ff",
   "metadata": {
    "jp-MarkdownHeadingCollapsed": true
   },
   "source": [
    "## String Manipulation"
   ]
  },
  {
   "cell_type": "markdown",
   "id": "c924a848-bbb8-475c-8778-033c9d8970c5",
   "metadata": {},
   "source": [
    "### substring extraction and replacement"
   ]
  },
  {
   "cell_type": "code",
   "execution_count": 6,
   "id": "7251b401-537b-4b45-8f87-5df3ba09f268",
   "metadata": {},
   "outputs": [
    {
     "name": "stdout",
     "output_type": "stream",
     "text": [
      "10\n",
      "2023\n",
      "10-12\n",
      "\n",
      "...\n",
      "original.sql\n",
      "\n",
      "...\n",
      "obin-linux_armhf-bin\n",
      "odist-linux_x64-bin\n",
      "odist-linux_x64-dist\n",
      "\n",
      "...\n",
      "db_config_backup.conf\n",
      "settings_config_backup.zip\n",
      "db_config_backup.bak\n",
      "newbackup.zip\n"
     ]
    }
   ],
   "source": [
    "# substring extraction by providing character position and length\n",
    "stringExtration() {\n",
    "  str=\"2023-10-12\"\n",
    "\n",
    "  echo \"${str:5:2}\" # 10\n",
    "  echo \"${str::4}\"  # 2023\n",
    "  echo \"${str:5}\"   # 10-12\n",
    "}\n",
    "stringExtration\n",
    "\n",
    "echo -e \"\\n...\"\n",
    "# substring from the right side, as folloes\n",
    "stringExtration() {\n",
    "  str=\"backup.sql\"\n",
    "  echo \"original${str:(-4)}\"  # original.sql\n",
    "}\n",
    "stringExtration\n",
    "\n",
    "echo -e \"\\n...\"\n",
    "# inbuilt syntax for subtring replacements\n",
    "stringExtration() {\n",
    "  str=\"obin-linux_x64-bin\"\n",
    "  echo \"${str/x64/armhf}\"  # obin-linux_armhf-bin\n",
    "  echo \"${str/bin/dist}\"   # odist-linux_x64-bin\n",
    "  echo \"${str//bin/dist}\"  # odist-linux_x64-dist\n",
    "}\n",
    "stringExtration\n",
    "\n",
    "echo -e \"\\n...\"\n",
    "# replace string prefixes and suffixes\n",
    "# replacing a file extension with another extension is a good example\n",
    "stringExtration() {\n",
    "  str=\"db_config_backup.zip\"\n",
    "  echo \"${str/%.zip/.conf}\"   # db_config_backup.conf\n",
    "  echo \"${str/#db/settings}\"  # settings_config_backup.zip\n",
    "\n",
    "  # in the above substring replacement,\n",
    "  # it used the exact substring segment for matching\n",
    "  # to use a part of the substring, us the \"*\" wildcard character\n",
    "  echo \"${str/%.*/.bak}\"      # db_config_backup.bak\n",
    "  echo \"${str/#*_/new}\"       # newbackup.zip\n",
    "}\n",
    "stringExtration"
   ]
  },
  {
   "cell_type": "markdown",
   "id": "8271cf17-b069-4bfc-b845-2dcc1bc058b5",
   "metadata": {},
   "source": [
    "### regex matches, extractions, and replacements\n",
    "\n",
    "Use inbuilt Bash regex features to handle text processing faster than external binaries"
   ]
  },
  {
   "cell_type": "code",
   "execution_count": 11,
   "id": "96357468-7ad0-4d19-8a62-f4e5352785d0",
   "metadata": {},
   "outputs": [
    {
     "name": "stdout",
     "output_type": "stream",
     "text": [
      "regex_matched\n",
      "\n",
      "...\n",
      "regex_matched\n",
      "\n",
      "...\n",
      "2003.zip\n",
      "2003\n",
      ".zip\n",
      "\n",
      "...\n",
      "db_backup_new.bak\n"
     ]
    }
   ],
   "source": [
    "# performs a regex match with an if-condition\n",
    "# and the \"=~\" operator\n",
    "regexSample() {\n",
    "  str=\"db_backup_2003.zip\"\n",
    "  if [[ $str =~ 200[0-5]+ ]]; then\n",
    "    echo \"regex_matched\"\n",
    "  fi\n",
    "}\n",
    "regexSample\n",
    "\n",
    "echo -e \"\\n...\"\n",
    "# replace the if-statement with an iline conditional\n",
    "regexSample() {\n",
    "  [[ $str =~ 200[0-5]+ ]] && echo \"regex_matched\"\n",
    "}\n",
    "regexSample\n",
    "\n",
    "echo -e \"\\n...\"\n",
    "# once the Bash interpreter performs a regex match,\n",
    "# it typically stores all matches in the \"BASH_REMATCH\" shell variable.\n",
    "# this variable is a read-only array, and\n",
    "# it stores the entire matched data in the first index.\n",
    "# IF using sub-patterns, Bash incrementally keeps those matches in other indexes.\n",
    "regexSample() {\n",
    "  str=\"db_backup_2003.zip\"\n",
    "  if [[ $str =~ (200[0-5])(.*$) ]]; then\n",
    "    echo \"${BASH_REMATCH[0]}\"  # 2003.zip\n",
    "    echo \"${BASH_REMATCH[1]}\"  # 2003\n",
    "    echo \"${BASH_REMATCH[2]}\"  # .zip\n",
    "  fi\n",
    "}\n",
    "regexSample\n",
    "\n",
    "echo -e \"\\n...\"\n",
    "# it's possible to use regex definitions inside parameter expansions\n",
    "regexSample() {\n",
    "  str=\"db_backup_2003.zip\"\n",
    "  re=\"200[0-3].zip\"\n",
    "  echo \"${str/$re/new}.bak\"  # db_backup_new.bak\n",
    "}\n",
    "regexSample"
   ]
  },
  {
   "cell_type": "markdown",
   "id": "0c1d675b-1702-4d08-b664-ac5a7ba2f06e",
   "metadata": {},
   "source": [
    "### substring removal techniques"
   ]
  },
  {
   "cell_type": "code",
   "execution_count": 16,
   "id": "32369d0a-71be-442b-b35d-551de8a576e9",
   "metadata": {},
   "outputs": [
    {
     "name": "stdout",
     "output_type": "stream",
     "text": [
      "5.02-2224.e2\n",
      "5\n",
      "5.02-2224\n",
      "\n",
      "...\n"
     ]
    }
   ],
   "source": [
    "# use the substring replacement syntax\n",
    "# but omit the replacement string parameter for string removals\n",
    "removal_technique() {\n",
    "  str=\"ver5.02-2224.e2\"\n",
    "  ver=\"${str#ver}\"\n",
    "  echo $ver              # 5.02-2224.e2\n",
    "  maj=\"${ver/.*}\"\n",
    "  echo $maj              # 5\n",
    "\n",
    "  # in the above, it used the exact substring\n",
    "  # and a wildcard for substring removal.\n",
    "  # check below how to extract a clean version number without excessive characters\n",
    "  str=\"ver5.02-2224_release\"\n",
    "  ver=\"${str//[a-z_]}\"\n",
    "  echo $ver              # 5.02-2224\n",
    "}\n",
    "removal_technique"
   ]
  },
  {
   "cell_type": "markdown",
   "id": "ab1f16e0-906f-4d19-adf1-bb8ee1d9f053",
   "metadata": {},
   "source": [
    "### case conversions and case-based variables"
   ]
  },
  {
   "cell_type": "code",
   "execution_count": 19,
   "id": "966fb744-5489-4be4-a41e-6bc30a064da1",
   "metadata": {},
   "outputs": [
    {
     "name": "stdout",
     "output_type": "stream",
     "text": [
      "hello bash!\n",
      "HELLO BASH!\n",
      "v2.0-release\n",
      "V4.0-release\n",
      "v4.02.2\n",
      "V2.22.1\n"
     ]
    }
   ],
   "source": [
    "caseString() {\n",
    "  str=\"Hello Bash!\"\n",
    "  lower=\"${str,,}\"\n",
    "  upper=\"${str^^}\"\n",
    "  echo $lower         # hello bash!\n",
    "  echo $upper         # HELLO BASH!\n",
    "\n",
    "  # uppercase or lowercase only the first character of a particular string\n",
    "  ver1=\"V2.0-release\"\n",
    "  ver2=\"v4.0-release\"\n",
    "  echo \"${ver1,}\"     # v2.0-release\n",
    "  echo \"${ver2^}\"     # V4.0-release\n",
    "\n",
    "  # if need to make a specific variable strictly uppercase or lowercase,\n",
    "  # add case attributes to a particular variable with the inbuilt \"declare\" command\n",
    "  declare -l ver1\n",
    "  declare -u ver2\n",
    "  ver1=\"V4.02.2\"\n",
    "  ver2=\"v2.22.1\"\n",
    "  echo $ver1          # v4.02.2\n",
    "  echo $ver2          # V2.22.1\n",
    "  # the above \"ver1\" and \"ver2\" variables receive a case attribute during the declaration,\n",
    "  # so whenever you assign a value for a specific variable,\n",
    "  # Bash converts the text case based on variable attributes.\n",
    "}\n",
    "caseString"
   ]
  },
  {
   "cell_type": "markdown",
   "id": "448050c9-594d-48f8-8f9d-a6ad2b1d1d05",
   "metadata": {},
   "source": [
    "### splitting strings (string-to-array conversion)"
   ]
  },
  {
   "cell_type": "code",
   "execution_count": 22,
   "id": "f71cd09f-340d-4f05-b6da-5803156ef5e7",
   "metadata": {},
   "outputs": [
    {
     "name": "stdout",
     "output_type": "stream",
     "text": [
      "5\n",
      "C\n",
      "Bash\n",
      "...\n",
      "7\n"
     ]
    }
   ],
   "source": [
    "# using \"IFS\" and \"read\" is one of the simplest and error-free ways to split a string\n",
    "splitting() {\n",
    "  str=\"C,C++,JavaScript,Python,Bash\"\n",
    "  IFS=\",\" read -ra arr <<< \"$str\"\n",
    "  echo \"${#arr[@]}\"  # 5\n",
    "  echo \"${arr[0]}\"   # C\n",
    "  echo \"${arr[4]}\"   # Bash\n",
    "  # the above uses \",\" as the split delimiter\n",
    "  # and uses the \"read\" inbuilt command to create an array based on \"IFS\"\n",
    "\n",
    "  # BUT it breaks when including \"*\"\n",
    "  # (expands to current directory's content)\n",
    "  # as an element and space as the delimiter\n",
    "  # WARNING: This code has several hidden issues.\n",
    "  str=\"C,Bash,*\"\n",
    "  arr=(${str//,/ })\n",
    "  echo \"...\"\n",
    "  echo \"${#arr[@]}\"   # \n",
    "}\n",
    "splitting"
   ]
  }
 ],
 "metadata": {
  "kernelspec": {
   "display_name": "Bash",
   "language": "bash",
   "name": "bash"
  },
  "language_info": {
   "codemirror_mode": "shell",
   "file_extension": ".sh",
   "mimetype": "text/x-sh",
   "name": "bash"
  }
 },
 "nbformat": 4,
 "nbformat_minor": 5
}
