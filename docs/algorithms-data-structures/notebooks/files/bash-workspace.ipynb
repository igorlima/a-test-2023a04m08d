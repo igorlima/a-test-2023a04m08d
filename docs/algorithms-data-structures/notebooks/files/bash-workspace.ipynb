{
 "cells": [
  {
   "cell_type": "markdown",
   "id": "f0108b8f-a67f-49d8-87ea-127a89676cbe",
   "metadata": {},
   "source": [
    "# A Jupyter kernel for bash\n",
    "\n",
    "- [github repo](https://github.com/takluyver/bash_kernel)\n",
    "\n",
    "```sh\n",
    "cat dog.png | display\n",
    "echo \"<b>Dog</b>, not a cat.\" | displayHTML\n",
    "echo \"alert('It is known khaleesi\\!');\" | displayJS\n",
    "```"
   ]
  },
  {
   "cell_type": "code",
   "execution_count": 3,
   "id": "eefa8700-287c-4712-afc0-9f3c9bcb478c",
   "metadata": {},
   "outputs": [
    {
     "name": "stdout",
     "output_type": "stream",
     "text": [
      "README.md\t\tpython-workspace.ipynb\trun-docker-notebook-d.sh\n",
      "bash-workspace.ipynb\trun-docker-bash.sh\trun-docker.sh\n",
      "golang-workspace.ipynb\trun-docker-d.sh\n"
     ]
    }
   ],
   "source": [
    "ls"
   ]
  }
 ],
 "metadata": {
  "kernelspec": {
   "display_name": "Bash",
   "language": "bash",
   "name": "bash"
  },
  "language_info": {
   "codemirror_mode": "shell",
   "file_extension": ".sh",
   "mimetype": "text/x-sh",
   "name": "bash"
  }
 },
 "nbformat": 4,
 "nbformat_minor": 5
}
