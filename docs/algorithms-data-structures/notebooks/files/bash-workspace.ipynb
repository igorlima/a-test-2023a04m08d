{
 "cells": [
  {
   "cell_type": "markdown",
   "id": "34182546-9522-4b23-9b52-fc1f60531b7e",
   "metadata": {},
   "source": [
    "# Bash Workspace"
   ]
  },
  {
   "cell_type": "markdown",
   "id": "9a5d4032-4df7-4f5c-b506-d318eb466353",
   "metadata": {},
   "source": [
    "## Intro"
   ]
  },
  {
   "cell_type": "markdown",
   "id": "6c2f6493-62be-4f4a-9859-0c44db6ef03c",
   "metadata": {},
   "source": [
    "List all the shells that are currently installed on our machine by reading the `/etc/shell` file:"
   ]
  },
  {
   "cell_type": "code",
   "execution_count": 3,
   "id": "3d8ddd65-8cd8-4167-92ae-ed4eea04c347",
   "metadata": {},
   "outputs": [
    {
     "name": "stdout",
     "output_type": "stream",
     "text": [
      "# /etc/shells: valid login shells\n",
      "/bin/sh\n",
      "/usr/bin/sh\n",
      "/bin/bash\n",
      "/usr/bin/bash\n",
      "/bin/rbash\n",
      "/usr/bin/rbash\n",
      "/bin/dash\n",
      "/usr/bin/dash\n"
     ]
    }
   ],
   "source": [
    "cat /etc/shells"
   ]
  },
  {
   "cell_type": "markdown",
   "id": "f0108b8f-a67f-49d8-87ea-127a89676cbe",
   "metadata": {},
   "source": [
    "## A Jupyter kernel for bash\n",
    "\n",
    "- [github repo](https://github.com/takluyver/bash_kernel)\n",
    "\n",
    "```sh\n",
    "cat dog.png | display\n",
    "echo \"<b>Dog</b>, not a cat.\" | displayHTML\n",
    "echo \"alert('It is known khaleesi\\!');\" | displayJS\n",
    "```"
   ]
  },
  {
   "cell_type": "code",
   "execution_count": 3,
   "id": "eefa8700-287c-4712-afc0-9f3c9bcb478c",
   "metadata": {},
   "outputs": [
    {
     "name": "stdout",
     "output_type": "stream",
     "text": [
      "README.md\t\tpython-workspace.ipynb\trun-docker-notebook-d.sh\n",
      "bash-workspace.ipynb\trun-docker-bash.sh\trun-docker.sh\n",
      "golang-workspace.ipynb\trun-docker-d.sh\n"
     ]
    }
   ],
   "source": [
    "ls"
   ]
  },
  {
   "cell_type": "markdown",
   "id": "813aa084-1094-4390-9501-cedbd403eb10",
   "metadata": {},
   "source": [
    "## Handle Arguments And Options\n",
    "\n",
    "Sometimes, we want to add arguments to provide to our script variables to make it more generic.\n",
    "\n",
    "- `$1` is the first argument\n",
    "- `$#` variable returns the number of arguments provided to the command line\n",
    "- `${#args[@]}` returns the number of args array elements\n",
    "\n",
    "The `shift` command is another handy tool for managing arguments in bash scripts. It ‘shifts’ all arguments to the left. For instance, if you use shift, `$2` becomes `$1`, `$3` becomes `$2`, and so on. The original first argument is discarded."
   ]
  },
  {
   "cell_type": "markdown",
   "id": "7b7c6ddc-c656-47e2-84d2-c504c6285625",
   "metadata": {
    "jp-MarkdownHeadingCollapsed": true
   },
   "source": [
    "### One argument"
   ]
  },
  {
   "cell_type": "code",
   "execution_count": 30,
   "id": "85aec4b6-aae3-4510-bd5c-c7b15cea0d60",
   "metadata": {},
   "outputs": [
    {
     "name": "stdout",
     "output_type": "stream",
     "text": [
      "\n",
      "ONE ARGUMENT\n",
      "hello\n"
     ]
    }
   ],
   "source": [
    "# ONE ARGUMENT\n",
    "oneArgument () {\n",
    "  echo $1\n",
    "}\n",
    "echo -e \"\\nONE ARGUMENT\"\n",
    "oneArgument hello"
   ]
  },
  {
   "cell_type": "markdown",
   "id": "aa387d82-c35c-428e-a9c3-f6e0f3bebdad",
   "metadata": {
    "jp-MarkdownHeadingCollapsed": true
   },
   "source": [
    "### Multiple Arguments"
   ]
  },
  {
   "cell_type": "code",
   "execution_count": 31,
   "id": "e7f7a259-21ea-4c96-962c-2d5af30abbdd",
   "metadata": {},
   "outputs": [
    {
     "name": "stdout",
     "output_type": "stream",
     "text": [
      "\n",
      "MULTIPLE ARGUMENTS\n",
      "hi John\n"
     ]
    }
   ],
   "source": [
    "# MULTIPLE ARGUMENTS\n",
    "multipleArguments () {\n",
    "  local args=(\"$@\")\n",
    "  if [ ${#args[@]} -ne 2 ]; then\n",
    "    echo \"Error: Missing or too many arguments.\"\n",
    "    exit 1\n",
    "  fi\n",
    "  local helloMessage=(${args[0]})\n",
    "  local name=(${args[1]})\n",
    "  echo $helloMessage $name\n",
    "}\n",
    "echo -e \"\\nMULTIPLE ARGUMENTS\"\n",
    "multipleArguments hi John"
   ]
  },
  {
   "cell_type": "markdown",
   "id": "fc0276a1-4604-4877-85df-e7d256e161b9",
   "metadata": {
    "jp-MarkdownHeadingCollapsed": true
   },
   "source": [
    "### Simple Option"
   ]
  },
  {
   "cell_type": "code",
   "execution_count": 32,
   "id": "4026ab95-ae61-46c1-9725-027577e6bb16",
   "metadata": {},
   "outputs": [
    {
     "name": "stdout",
     "output_type": "stream",
     "text": [
      "\n",
      "SIMPLE OPTION\n",
      "hello Anna\n",
      "hello\n"
     ]
    }
   ],
   "source": [
    "# SIMPLE OPTION\n",
    "simpleOption () {\n",
    "  local args\n",
    "  local short_presentation=false\n",
    "  while [ $# -gt 0 ]; do\n",
    "    case \"$1\" in\n",
    "      -s|--short-presentation)\n",
    "        short_presentation=true\n",
    "        shift\n",
    "        ;;\n",
    "      -*|--*)\n",
    "        echo \"Error: Invalid option: $1\"\n",
    "        ;;\n",
    "      *)\n",
    "        args+=(\"$1\")\n",
    "        shift\n",
    "        ;;\n",
    "    esac\n",
    "  done\n",
    "  if [ ${#args[@]} -ne 2 ]; then\n",
    "    echo \"Error: Missing or too many arguments.\"\n",
    "    exit 1\n",
    "  fi\n",
    "  local helloMessage=(${args[0]})\n",
    "  local name=(${args[1]})\n",
    "  if [ \"$short_presentation\" = true ]; then\n",
    "    echo $helloMessage\n",
    "  else\n",
    "    echo $helloMessage $name\n",
    "  fi\n",
    "}\n",
    "echo -e \"\\nSIMPLE OPTION\"\n",
    "simpleOption hello Anna\n",
    "simpleOption -s hello Anna"
   ]
  },
  {
   "cell_type": "markdown",
   "id": "dccd5487-28e3-4aa4-a816-9cbee4ddf9f7",
   "metadata": {
    "jp-MarkdownHeadingCollapsed": true
   },
   "source": [
    "### Value Option"
   ]
  },
  {
   "cell_type": "code",
   "execution_count": 33,
   "id": "e09305e6-f135-4f3b-98c6-8a0d87af7041",
   "metadata": {},
   "outputs": [
    {
     "name": "stdout",
     "output_type": "stream",
     "text": [
      "\n",
      "VALUE OPTION\n",
      "\\033[0;31mhi Jhon\\033[0m\n",
      "\\033[0;32mwhat's John\\033[0m\n",
      "\\033[0;33mhello Anna\\033[0m\n"
     ]
    }
   ],
   "source": [
    "# VALUE OPTION\n",
    "valueOption () {\n",
    "  local args\n",
    "  local short_presentation=false\n",
    "  local allowed_colors=\"green yellow red\"\n",
    "  check_option() {\n",
    "    for option in $2; do\n",
    "      if [ \"$option\" = \"$1\" ]; then\n",
    "        return 0\n",
    "      fi\n",
    "    done\n",
    "    echo \"Error: Invalid option value : $1\"\n",
    "    exit 1\n",
    "  }\n",
    "  echo_color () {\n",
    "    case $1 in\n",
    "    green)\n",
    "      echo \"\\033[0;32m${@:2}\\033[0m\"\n",
    "      ;;\n",
    "    yellow)\n",
    "      echo \"\\033[0;33m${@:2}\\033[0m\"\n",
    "      ;;\n",
    "    red)\n",
    "      echo \"\\033[0;31m${@:2}\\033[0m\"\n",
    "      ;;\n",
    "    *)\n",
    "      echo \"${@:2}\"\n",
    "      ;;\n",
    "    esac\n",
    "  }\n",
    "  while [ $# -gt 0 ]; do\n",
    "    case \"$1\" in\n",
    "      -s|--short-presentation)\n",
    "        short_presentation=true\n",
    "        shift\n",
    "        ;;\n",
    "      -c=*|--color=*)\n",
    "        check_option \"${1#*=}\" \"$allowed_colors\"\n",
    "        color=\"${1#*=}\"\n",
    "        shift\n",
    "        ;;\n",
    "      -*|--*)\n",
    "        echo \"Error: Invalid option: $1\"\n",
    "        exit 1\n",
    "        ;;\n",
    "      *)\n",
    "        args+=(\"$1\")\n",
    "        shift\n",
    "        ;;\n",
    "    esac\n",
    "  done\n",
    "  if [ ${#args[@]} -ne 2 ]; then\n",
    "    echo \"Error: Missing or too many arguments.\"\n",
    "  fi\n",
    "  local helloMessage=(${args[0]})\n",
    "  local name=(${args[1]})\n",
    "  if [ \"$short_presentation\" = true ]; then\n",
    "    echo_color $color $helloMessage\n",
    "  else\n",
    "    echo_color $color $helloMessage $name\n",
    "  fi\n",
    "}\n",
    "\n",
    "echo -e \"\\nVALUE OPTION\"\n",
    "valueOption \"hi\" \"Jhon\" --color=red\n",
    "valueOption \"what's up\" \"John\" --color=green\n",
    "valueOption hello Anna --color=yellow"
   ]
  },
  {
   "cell_type": "markdown",
   "id": "794a9874-0a62-4f37-970d-4b96066d911c",
   "metadata": {
    "jp-MarkdownHeadingCollapsed": true
   },
   "source": [
    "### Usage"
   ]
  },
  {
   "cell_type": "code",
   "execution_count": 2,
   "id": "fbb48b07-594b-44d6-8344-64d7c5ba1aab",
   "metadata": {},
   "outputs": [
    {
     "name": "stdout",
     "output_type": "stream",
     "text": [
      "\n",
      "Usage: /usr/bin/bash [...options] <hello_message> <name>\n",
      "Options:\n",
      "  -h, --help                 Show this help message.\n",
      "  -c, --color COLOR          Set the color for the message (green, yellow or red).\n",
      "  -s, --short-presentation   Display presentation message without name.\n",
      "\n",
      "Example: /usr/bin/bash -c green 'Hello' 'John'\n",
      "\n"
     ]
    }
   ],
   "source": [
    "usage() {\n",
    "  echo    \n",
    "  echo \"Usage: $0 [...options] <hello_message> <name>\"\n",
    "  echo \"Options:\"\n",
    "  echo \"  -h, --help                 Show this help message.\"\n",
    "  echo \"  -c, --color COLOR          Set the color for the message (green, yellow or red).\"\n",
    "  echo \"  -s, --short-presentation   Display presentation message without name.\"\n",
    "  echo\n",
    "  echo \"Example: $0 -c green 'Hello' 'John'\"\n",
    "  echo\n",
    "}\n",
    "usage"
   ]
  },
  {
   "cell_type": "code",
   "execution_count": 14,
   "id": "29a2dc0d-3228-4921-97f6-386a57fadf4f",
   "metadata": {},
   "outputs": [
    {
     "name": "stdout",
     "output_type": "stream",
     "text": [
      "\n",
      "SIMPLE USAGE\n",
      "Error: Invalid option: -d\n",
      "\n",
      "Usage: /usr/bin/bash [-s|--short-presentation] [-c|--color=<green|yellow|red>] [-h|--help] <hello_message> <name>\n",
      "\n",
      "exit\n",
      "Restarting Bash\n"
     ]
    }
   ],
   "source": [
    "# SIMPLE USAGE\n",
    "simpleUsage () {\n",
    "  local args\n",
    "  local short_presentation=false\n",
    "  local allowed_colors=\"green yellow red\"\n",
    "  usage() {\n",
    "    echo\n",
    "    echo \"Usage: $0 [-s|--short-presentation] [-c|--color=<green|yellow|red>] [-h|--help] <hello_message> <name>\"\n",
    "    echo\n",
    "  }\n",
    "  check_option() {\n",
    "    for option in $2; do\n",
    "      if [ \"$option\" = \"$1\" ]; then\n",
    "        return 0\n",
    "      fi\n",
    "    done\n",
    "    echo \"Error: Invalid option value : $1\"\n",
    "    usage\n",
    "    exit 1\n",
    "  }\n",
    "  echo_color () {\n",
    "    case $1 in\n",
    "    green)\n",
    "      echo \"\\033[0;32m${@:2}\\033[0m\"\n",
    "      ;;\n",
    "    yellow)\n",
    "      echo \"\\033[0;33m${@:2}\\033[0m\"\n",
    "      ;;\n",
    "    red)\n",
    "      echo \"\\033[0;31m${@:2}\\033[0m\"\n",
    "      ;;\n",
    "    *)\n",
    "      echo \"${@:2}\"\n",
    "      ;;\n",
    "    esac\n",
    "  }\n",
    "  while [ $# -gt 0 ]; do\n",
    "    case \"$1\" in\n",
    "      -h|--help)\n",
    "        usage\n",
    "        exit 1\n",
    "        ;;\n",
    "      -s|--short-presentation)\n",
    "        short_presentation=true\n",
    "        shift\n",
    "        ;;\n",
    "      -c=*|--color=*)\n",
    "        check_option \"${1#*=}\" \"$allowed_colors\"\n",
    "        color=\"${1#*=}\"\n",
    "        shift\n",
    "        ;;\n",
    "      -*|--*)\n",
    "        echo \"Error: Invalid option: $1\"\n",
    "        usage\n",
    "        exit 1\n",
    "        ;;\n",
    "      *)\n",
    "        args+=(\"$1\")\n",
    "        shift\n",
    "        ;;\n",
    "    esac\n",
    "  done\n",
    "  if [ ${#args[@]} -ne 2 ]; then\n",
    "    echo \"Error: Missing or too many arguments.\"\n",
    "    usage\n",
    "    exit 1\n",
    "  fi\n",
    "  local helloMessage=(${args[0]})\n",
    "  local name=(${args[1]})\n",
    "  if [ \"$short_presentation\" = true ]; then\n",
    "    echo_color $color $helloMessage\n",
    "  else\n",
    "    echo_color $color $helloMessage $name\n",
    "  fi\n",
    "}\n",
    "\n",
    "echo -e \"\\nSIMPLE USAGE\"\n",
    "# simpleUsage -h\n",
    "# simpleUsage \"what's up\" \"John\" \"how's it going\"\n",
    "# simpleUsage hello Anna --color=purple\n",
    "simpleUsage hello Anna -d"
   ]
  },
  {
   "cell_type": "code",
   "execution_count": null,
   "id": "ef607852-fb51-4570-bf58-41a9941fa7ed",
   "metadata": {},
   "outputs": [],
   "source": []
  }
 ],
 "metadata": {
  "kernelspec": {
   "display_name": "Bash",
   "language": "bash",
   "name": "bash"
  },
  "language_info": {
   "codemirror_mode": "shell",
   "file_extension": ".sh",
   "mimetype": "text/x-sh",
   "name": "bash"
  }
 },
 "nbformat": 4,
 "nbformat_minor": 5
}
