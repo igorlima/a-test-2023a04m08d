{
 "cells": [
  {
   "cell_type": "code",
   "execution_count": 1,
   "id": "cee3bfd2-4731-4ca4-aae1-d80daf37ce66",
   "metadata": {},
   "outputs": [
    {
     "name": "stdout",
     "output_type": "stream",
     "text": [
      "3\n"
     ]
    }
   ],
   "source": [
    "function foo () {\n",
    "  console.log(1+2)\n",
    "}\n",
    "foo()"
   ]
  }
 ],
 "metadata": {
  "kernelspec": {
   "display_name": "JavaScript (Node.js)",
   "language": "javascript",
   "name": "javascript"
  },
  "language_info": {
   "file_extension": ".js",
   "mimetype": "application/javascript",
   "name": "javascript",
   "version": "18.19.0"
  }
 },
 "nbformat": 4,
 "nbformat_minor": 5
}
