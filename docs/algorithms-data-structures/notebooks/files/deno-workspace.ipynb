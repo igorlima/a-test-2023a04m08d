{
 "cells": [
  {
   "cell_type": "code",
   "execution_count": 1,
   "id": "5a3f923a-1bdf-4f72-bd97-86156b129326",
   "metadata": {},
   "outputs": [
    {
     "name": "stdout",
     "output_type": "stream",
     "text": [
      "hello\n"
     ]
    }
   ],
   "source": [
    "let _id; // Implicit Declearation\n",
    "let fb_id: any; // Explicit Declearation\n",
    "fb_id = true;\n",
    "fb_id = 23423523;\n",
    "\n",
    "const firstName = \"Riyad\";\n",
    "const lastName: string = \"Hossain\";\n",
    "let isLoading: boolean;\n",
    "isLoading = false;\n",
    "\n",
    "let roll: string | number = 423;\n",
    "roll = \"423\";\n",
    "\n",
    "let device: string | number | boolean; // Union Type\n",
    "device = \"Mobile\";\n",
    "device = 4323523;\n",
    "\n",
    "const re: RegExp = /\\w+/g;\n",
    "\n",
    "console.log(\"hello\")"
   ]
  },
  {
   "cell_type": "code",
   "execution_count": 2,
   "id": "c923d338-8d93-41df-b514-b99c1c34fd92",
   "metadata": {},
   "outputs": [
    {
     "name": "stdout",
     "output_type": "stream",
     "text": [
      "12, 26\n"
     ]
    }
   ],
   "source": [
    "interface Point {\n",
    "  x: number;\n",
    "  y: number;\n",
    "}\n",
    " \n",
    "function logPoint(p: Point) {\n",
    "  console.log(`${p.x}, ${p.y}`);\n",
    "}\n",
    " \n",
    "// logs \"12, 26\"\n",
    "const point = { x: 12, y: 26 };\n",
    "logPoint(point);"
   ]
  }
 ],
 "metadata": {
  "kernelspec": {
   "display_name": "Deno",
   "language": "typescript",
   "name": "deno"
  },
  "language_info": {
   "file_extension": ".ts",
   "mimetype": "text/x.typescript",
   "name": "typescript",
   "nb_converter": "script",
   "pygments_lexer": "typescript",
   "version": "5.4.5"
  }
 },
 "nbformat": 4,
 "nbformat_minor": 5
}
