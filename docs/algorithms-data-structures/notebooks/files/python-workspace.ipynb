{
 "cells": [
  {
   "cell_type": "markdown",
   "metadata": {},
   "source": [
    "# Python Workspace"
   ]
  },
  {
   "cell_type": "markdown",
   "metadata": {},
   "source": [
    "## Intro"
   ]
  },
  {
   "cell_type": "code",
   "execution_count": 1,
   "metadata": {},
   "outputs": [
    {
     "name": "stdout",
     "output_type": "stream",
     "text": [
      "4\n"
     ]
    }
   ],
   "source": [
    "a = 4\n",
    "print(a)"
   ]
  },
  {
   "cell_type": "markdown",
   "metadata": {
    "jp-MarkdownHeadingCollapsed": true
   },
   "source": [
    "## Python Coding Tips: Lessons I Wish I Knew When I Started Coding\n",
    "by Livia Ellen\n",
    "[published on Medium](https://python.plainenglish.io/27-python-coding-tips-lessons-i-wish-i-knew-when-i-started-coding-1608696b3b0d)\n",
    "\n"
   ]
  },
  {
   "cell_type": "code",
   "execution_count": 2,
   "metadata": {},
   "outputs": [
    {
     "name": "stdout",
     "output_type": "stream",
     "text": [
      "My name is John, and I am 26 years old.\n"
     ]
    }
   ],
   "source": [
    "# f-string dynamic string formattin\n",
    "name = \"John\"\n",
    "age = 26\n",
    "message = f\"My name is {name}, and I am {age} years old.\"\n",
    "print(message)"
   ]
  },
  {
   "cell_type": "code",
   "execution_count": 4,
   "metadata": {},
   "outputs": [
    {
     "name": "stdout",
     "output_type": "stream",
     "text": [
      "55\n",
      "example_function executed in 0.0014181137084960938\n"
     ]
    }
   ],
   "source": [
    "# decorator\n",
    "import time\n",
    "def timer_decorator(func):\n",
    "  def wrapper(*args, **kwargs):\n",
    "    start_time = time.time()\n",
    "    result = func(*args, **kwargs)\n",
    "    end_time = time.time()\n",
    "    print(f'{func.__name__} executed in {end_time - start_time} seconds')\n",
    "    return result\n",
    "  return wrapper\n",
    "\n",
    "def fibonacci_of(n):\n",
    "  if n in {0, 1}:  # Base case\n",
    "    return n\n",
    "  return fibonacci_of(n - 1) + fibonacci_of(n - 2)  # Recursive case\n",
    "\n",
    "@timer_decorator\n",
    "def example_function():\n",
    "  print(fibonacci_of(10))\n",
    "\n",
    "example_function()"
   ]
  },
  {
   "cell_type": "code",
   "execution_count": 6,
   "metadata": {},
   "outputs": [
    {
     "name": "stdout",
     "output_type": "stream",
     "text": [
      "Help on function calculate_square in module __main__:\n",
      "\n",
      "calculate_square(number)\n",
      "    Calculates the square of a given number.Parameters:\n",
      "    - number (int): The input number.\n",
      "    Returns:\n",
      "    - int: The square of the input number.\n",
      "\n",
      "100\n"
     ]
    }
   ],
   "source": [
    "# help() Function\n",
    "def calculate_square(number):\n",
    "  \"\"\"\n",
    "  Calculates the square of a given number.Parameters:\n",
    "  - number (int): The input number.\n",
    "  Returns:\n",
    "  - int: The square of the input number.\n",
    "  \"\"\"\n",
    "  return number ** 2\n",
    "\n",
    "# accessing help for the calculate_square function\n",
    "help(calculate_square)\n",
    "\n",
    "print(calculate_square(10))"
   ]
  },
  {
   "cell_type": "code",
   "execution_count": 7,
   "metadata": {},
   "outputs": [
    {
     "name": "stdout",
     "output_type": "stream",
     "text": [
      "[0, 4, 16, 36, 64]\n"
     ]
    }
   ],
   "source": [
    "# list comprehensions\n",
    "# finding squares of even numbers in a range\n",
    "squares = [x**2 for x in range(10) if x % 2 == 0]\n",
    "print(squares)"
   ]
  },
  {
   "cell_type": "code",
   "execution_count": 8,
   "metadata": {},
   "outputs": [
    {
     "name": "stdout",
     "output_type": "stream",
     "text": [
      "8\n"
     ]
    }
   ],
   "source": [
    "# lambda functions\n",
    "# adding two numbers with a lambda function\n",
    "add_numbers = lambda x, y: x + y\n",
    "result = add_numbers(3, 5)\n",
    "print(result)"
   ]
  },
  {
   "cell_type": "code",
   "execution_count": 10,
   "metadata": {},
   "outputs": [
    {
     "name": "stdout",
     "output_type": "stream",
     "text": [
      "Person 1: Alice\n",
      "Person 2: Bob\n",
      "Person 3: Charlie\n",
      "...\n",
      "Alice is 25 years old.\n",
      "Bob is 30 years old.\n",
      "Charlie is 22 years old.\n"
     ]
    }
   ],
   "source": [
    "# iteration with enumerate and zip\n",
    "names = [\"Alice\", \"Bob\", \"Charlie\"]\n",
    "ages = [25, 30, 22]\n",
    "# enumerate for index and value\n",
    "for index, name in enumerate(names):\n",
    "  print(f\"Person {index + 1}: {name}\")\n",
    "print('...')\n",
    "# zip for parallel iteration\n",
    "for name, age in zip(names, ages):\n",
    "  print(f\"{name} is {age} years old.\")"
   ]
  },
  {
   "cell_type": "code",
   "execution_count": 26,
   "metadata": {},
   "outputs": [
    {
     "name": "stdout",
     "output_type": "stream",
     "text": [
      "24\n",
      "24\n"
     ]
    }
   ],
   "source": [
    "# *args and **kwargs\n",
    "def multiply_args(*args, **kwargs):\n",
    "  result = 1\n",
    "  for num in args:\n",
    "    result *= num\n",
    "  return result\n",
    "print(multiply_args(2,3,4))\n",
    "\n",
    "def multiply_kwargs(*args, **kwargs):\n",
    "  result = 1\n",
    "  for key, value in kwargs.items():\n",
    "    result *= value\n",
    "  return result\n",
    "print(multiply_kwargs(two=2,three=3,four=4))"
   ]
  },
  {
   "cell_type": "code",
   "execution_count": 27,
   "metadata": {},
   "outputs": [
    {
     "name": "stdout",
     "output_type": "stream",
     "text": [
      "The result of 10 divided by 2 is: 5.0\n",
      "Division successful!\n",
      "Cannot divide by zero! Please provide a non-zero denominator.\n",
      "An unexpected error occurred: unsupported operand type(s) for /: 'str' and 'int'\n"
     ]
    }
   ],
   "source": [
    "# error Handling with try and except\n",
    "# Example: Graceful error handling with try and except\n",
    "def divide_numbers(a, b):\n",
    "  try:\n",
    "    result = a / b\n",
    "    print(f\"The result of {a} divided by {b} is: {result}\")\n",
    "  except ZeroDivisionError:\n",
    "    print(\"Cannot divide by zero! Please provide a non-zero denominator.\")\n",
    "  except Exception as e:\n",
    "    print(f\"An unexpected error occurred: {e}\")\n",
    "  else:\n",
    "    print(\"Division successful!\")\n",
    "# Testing the function\n",
    "divide_numbers(10, 2)  # Normal division\n",
    "divide_numbers(5, 0)   # Division by zero\n",
    "divide_numbers(\"a\", 2) # Unexpected error (TypeError)"
   ]
  },
  {
   "cell_type": "code",
   "execution_count": 28,
   "metadata": {},
   "outputs": [
    {
     "name": "stdout",
     "output_type": "stream",
     "text": [
      "[3, 4, 5, 6]\n"
     ]
    }
   ],
   "source": [
    "# list slicing:\n",
    "# extracting a sublist from index 2 to 5\n",
    "original_list = [1, 2, 3, 4, 5, 6, 7]\n",
    "sublist = original_list[2:6]\n",
    "print(sublist)"
   ]
  },
  {
   "cell_type": "code",
   "execution_count": 31,
   "metadata": {},
   "outputs": [
    {
     "name": "stdout",
     "output_type": "stream",
     "text": [
      "0\n",
      "1\n",
      "1\n",
      "2\n",
      "3\n",
      "5\n",
      "8\n",
      "13\n",
      "21\n",
      "34\n"
     ]
    }
   ],
   "source": [
    "# generators\n",
    "# fibonacci sequence generator\n",
    "def fibonacci(n):\n",
    "  a, b = 0, 1\n",
    "  for _ in range(n):\n",
    "    yield a\n",
    "    a, b = b, a + b\n",
    "for n in fibonacci(10):\n",
    "  print(n)"
   ]
  },
  {
   "cell_type": "code",
   "execution_count": 32,
   "metadata": {},
   "outputs": [
    {
     "ename": "AssertionError",
     "evalue": "Number must be positive",
     "output_type": "error",
     "traceback": [
      "\u001b[0;31m---------------------------------------------------------------------------\u001b[0m",
      "\u001b[0;31mAssertionError\u001b[0m                            Traceback (most recent call last)",
      "Cell \u001b[0;32mIn[32], line 4\u001b[0m\n\u001b[1;32m      1\u001b[0m \u001b[38;5;66;03m# assertions\u001b[39;00m\n\u001b[1;32m      2\u001b[0m \u001b[38;5;66;03m# assertion for checking if a variable is positive\u001b[39;00m\n\u001b[1;32m      3\u001b[0m num \u001b[38;5;241m=\u001b[39m \u001b[38;5;241m-\u001b[39m\u001b[38;5;241m5\u001b[39m\n\u001b[0;32m----> 4\u001b[0m \u001b[38;5;28;01massert\u001b[39;00m num \u001b[38;5;241m>\u001b[39m \u001b[38;5;241m0\u001b[39m, \u001b[38;5;124m\"\u001b[39m\u001b[38;5;124mNumber must be positive\u001b[39m\u001b[38;5;124m\"\u001b[39m\n",
      "\u001b[0;31mAssertionError\u001b[0m: Number must be positive"
     ]
    }
   ],
   "source": [
    "# assertions\n",
    "# assertion for checking if a variable is positive\n",
    "num = -5\n",
    "assert num > 0, \"Number must be positive\""
   ]
  },
  {
   "cell_type": "code",
   "execution_count": 36,
   "metadata": {},
   "outputs": [
    {
     "name": "stdout",
     "output_type": "stream",
     "text": [
      "Person(name='Alice', age=30)\n",
      "Alice\n",
      "30\n"
     ]
    }
   ],
   "source": [
    "# namedtuples: self-documenting data structures\n",
    "from collections import namedtuple\n",
    "Person = namedtuple('Person', ['name', 'age'])\n",
    "alice = Person(name=\"Alice\", age=30)\n",
    "print(alice)\n",
    "print(alice.name)\n",
    "print(alice.age)"
   ]
  },
  {
   "cell_type": "code",
   "execution_count": 37,
   "metadata": {},
   "outputs": [
    {
     "name": "stdout",
     "output_type": "stream",
     "text": [
      "Alice: 85\n",
      "Bob: 92\n"
     ]
    }
   ],
   "source": [
    "# zipping lists: combine sequences\n",
    "# matching user inputs with corresponding answers in a quiz\n",
    "names = [\"Alice\", \"Bob\"]\n",
    "scores = [85, 92]\n",
    "for name, score in zip(names, scores):\n",
    "    print(f\"{name}: {score}\")"
   ]
  },
  {
   "cell_type": "code",
   "execution_count": 39,
   "metadata": {},
   "outputs": [
    {
     "name": "stdout",
     "output_type": "stream",
     "text": [
      "{'name': 'Alice', 'country': 'USA'} 30\n"
     ]
    }
   ],
   "source": [
    "# dictionaries\n",
    "data = {\"name\": \"Alice\"}\n",
    "age = data.get(\"age\", 30)\n",
    "data.setdefault(\"country\", \"USA\")\n",
    "print(data, age)"
   ]
  },
  {
   "cell_type": "code",
   "execution_count": 40,
   "metadata": {},
   "outputs": [
    {
     "name": "stdout",
     "output_type": "stream",
     "text": [
      "6\n"
     ]
    }
   ],
   "source": [
    "# the asterisk (*) operator\n",
    "# passing a dynamic list of values to a function expecting separate arguments\n",
    "def func(a, b, c):\n",
    "  return a + b + c\n",
    "\n",
    "values = [1, 2, 3]\n",
    "print(func(*values))"
   ]
  },
  {
   "cell_type": "code",
   "execution_count": 41,
   "metadata": {},
   "outputs": [
    {
     "name": "stdout",
     "output_type": "stream",
     "text": [
      "{'a': 1, 'b': 3, 'c': 4}\n"
     ]
    }
   ],
   "source": [
    "# merging dictionaries\n",
    "# using the update() method\n",
    "dict1 = {'a': 1, 'b': 2}\n",
    "dict2 = {'b': 3, 'c': 4}\n",
    "dict1.update(dict2)\n",
    "print(dict1)"
   ]
  },
  {
   "cell_type": "markdown",
   "metadata": {
    "jp-MarkdownHeadingCollapsed": true
   },
   "source": [
    "## Context Managers In Python\n",
    "\n",
    "by Yanick Andrade\n",
    "[published on Medium](https://python.plainenglish.io/context-managers-in-python-its-so-awesome-that-you-won-t-believe-3861bb5c4d0b)\n"
   ]
  },
  {
   "cell_type": "code",
   "execution_count": 5,
   "metadata": {},
   "outputs": [
    {
     "name": "stdout",
     "output_type": "stream",
     "text": [
      "init\n",
      "enter\n",
      "login\n",
      "exit\n",
      "logout\n"
     ]
    }
   ],
   "source": [
    "class AuthManager:\n",
    "  def __init__(self, username: str, password: str) -> None:\n",
    "    print('init')\n",
    "    self.username = username\n",
    "    self.password = password\n",
    "\n",
    "  def __enter__(self):\n",
    "    print('enter')\n",
    "    return self\n",
    "\n",
    "  def __exit__(self, exc_type, exc_value, traceback):\n",
    "    print('exit')\n",
    "    # let's assume that we have some logic to log user out\n",
    "    self.logout()\n",
    "    # we will se why we are returning True\n",
    "    return True\n",
    "\n",
    "  def login(self):\n",
    "    print('login')\n",
    "    # let's assume that we have some logic to log user in\n",
    "    pass\n",
    "\n",
    "  def logout(self):\n",
    "    print('logout')\n",
    "    # let's assume that we have some logic to log user out\n",
    "    pass\n",
    "\n",
    "with AuthManager(username=\"random\", password=\"random\") as auth:\n",
    "  # let's assume that we have some logic to log user in\n",
    "  auth.login()"
   ]
  },
  {
   "cell_type": "code",
   "execution_count": null,
   "metadata": {},
   "outputs": [],
   "source": []
  },
  {
   "cell_type": "markdown",
   "metadata": {
    "jp-MarkdownHeadingCollapsed": true
   },
   "source": [
    "## How to Filter a List in Python\n",
    "\n",
    "[by Soumya Agarwal](https://techbeamers.com/how-do-you-filter-a-list-in-python/)\n",
    "\n",
    "__comparing methods for filtering lists in Python__\n",
    "\n",
    "| Method | Example | Advantages | Disadvantages |\n",
    "| :---   | :---    | :---       | :---          |\n",
    "| `filter()` | `result = filter(lambda x: x%2 == 0, num_list)` | (i) Efficient for complex conditions or reusable filters; (ii) Concise and readable | (i) Not as efficient as list comprehension for simple cases; (ii) Requires defining a separate function. |\n",
    "| List comprehension | `result = [x for x in num_list if x%2 == 0]` | (i) Concise and efficient for simple filtering. | (i)  Less flexible than `filter()` for complex conditions; (ii) Can be less readable with complex logic. |\n",
    "| Loop | `result = []for x in num_list: if x%2 == 0: new_list.append(x)` | (i) Easiest to understand for beginners | (i) Less efficient than filter() or list comprehension; (ii) Longer and less readable for complex tasks. |\n",
    "| Built-in functions | `result = max(num_list)` | (i) Highly efficient for specific tasks like finding min/max; (ii) Built-in and easy to use. | (i) Limited to specific tasks; (ii) Not suitable for more complex filtering criteria. |"
   ]
  },
  {
   "cell_type": "markdown",
   "metadata": {
    "jp-MarkdownHeadingCollapsed": true
   },
   "source": [
    "### using the `filter()` function"
   ]
  },
  {
   "cell_type": "code",
   "execution_count": 8,
   "metadata": {},
   "outputs": [
    {
     "name": "stdout",
     "output_type": "stream",
     "text": [
      "[11, 31, 51]\n"
     ]
    }
   ],
   "source": [
    "nums = [11, 22, 31, 42, 51]\n",
    "\n",
    "def is_num_odd(z):\n",
    "  return z % 2 != 0\n",
    "\n",
    "out_nums = filter(is_num_odd, nums)\n",
    "# Convert the iterator to a list\n",
    "out_nums = list(out_nums)\n",
    "print(out_nums)"
   ]
  },
  {
   "cell_type": "markdown",
   "metadata": {
    "jp-MarkdownHeadingCollapsed": true
   },
   "source": [
    "### using list comprehension"
   ]
  },
  {
   "cell_type": "code",
   "execution_count": 7,
   "metadata": {},
   "outputs": [
    {
     "name": "stdout",
     "output_type": "stream",
     "text": [
      "[22, 42]\n"
     ]
    }
   ],
   "source": [
    "nums = [11, 22, 31, 42, 51]\n",
    "result = [x for x in nums if x % 2 == 0]\n",
    "print(result)"
   ]
  },
  {
   "cell_type": "markdown",
   "metadata": {
    "jp-MarkdownHeadingCollapsed": true
   },
   "source": [
    "### using a loop"
   ]
  },
  {
   "cell_type": "code",
   "execution_count": 9,
   "metadata": {},
   "outputs": [
    {
     "name": "stdout",
     "output_type": "stream",
     "text": [
      "[22, 42]\n"
     ]
    }
   ],
   "source": [
    "nums = [11, 22, 31, 42, 51]\n",
    "outNums = []\n",
    "for n in nums:\n",
    "  if n % 2 == 0:\n",
    "    outNums.append(n)\n",
    "print(outNums)"
   ]
  },
  {
   "cell_type": "markdown",
   "metadata": {
    "jp-MarkdownHeadingCollapsed": true
   },
   "source": [
    "### filtering using regular expressions"
   ]
  },
  {
   "cell_type": "code",
   "execution_count": 10,
   "metadata": {},
   "outputs": [
    {
     "name": "stdout",
     "output_type": "stream",
     "text": [
      "[['johndoe@example.com'], ['johnsmith123@gmail.com'], []]\n"
     ]
    }
   ],
   "source": [
    "import re\n",
    "\n",
    "texts = [\n",
    "  \"My email is johndoe@example.com.\",\n",
    "  \"Contact me at johnsmith123@gmail.com\",\n",
    "  \"This website has no contact information.\"\n",
    "]\n",
    "emails = [re.findall(r\"[\\w.]+@\\w+\\.\\w+\", text) for text in texts]\n",
    "print(emails)"
   ]
  }
 ],
 "metadata": {
  "kernelspec": {
   "display_name": "Python 3 (ipykernel)",
   "language": "python",
   "name": "python3"
  },
  "language_info": {
   "codemirror_mode": {
    "name": "ipython",
    "version": 3
   },
   "file_extension": ".py",
   "mimetype": "text/x-python",
   "name": "python",
   "nbconvert_exporter": "python",
   "pygments_lexer": "ipython3",
   "version": "3.12.2"
  }
 },
 "nbformat": 4,
 "nbformat_minor": 4
}
